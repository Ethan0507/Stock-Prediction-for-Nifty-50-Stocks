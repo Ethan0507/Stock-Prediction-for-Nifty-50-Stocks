{
  "nbformat": 4,
  "nbformat_minor": 0,
  "metadata": {
    "colab": {
      "name": "Stock-Prediction(All-models39).ipynb",
      "provenance": []
    },
    "kernelspec": {
      "name": "python3",
      "display_name": "Python 3"
    }
  },
  "cells": [
    {
      "cell_type": "markdown",
      "metadata": {
        "id": "qfw1d0aMWvcx",
        "colab_type": "text"
      },
      "source": [
        "### Installing TA-Lib"
      ]
    },
    {
      "cell_type": "code",
      "metadata": {
        "id": "nllOrW95thnE",
        "colab_type": "code",
        "colab": {
          "base_uri": "https://localhost:8080/",
          "height": 420
        },
        "outputId": "bc02f8c8-2ca5-411c-c6eb-87fe42f76952"
      },
      "source": [
        "!wget https://launchpad.net/~mario-mariomedina/+archive/ubuntu/talib/+files/libta-lib0_0.4.0-oneiric1_amd64.deb -qO libta.deb\n",
        "!wget https://launchpad.net/~mario-mariomedina/+archive/ubuntu/talib/+files/ta-lib0-dev_0.4.0-oneiric1_amd64.deb -qO ta.deb\n",
        "!dpkg -i libta.deb ta.deb\n",
        "!pip install ta-lib\n",
        "import talib"
      ],
      "execution_count": null,
      "outputs": [
        {
          "output_type": "stream",
          "text": [
            "Selecting previously unselected package libta-lib0.\n",
            "(Reading database ... 144328 files and directories currently installed.)\n",
            "Preparing to unpack libta.deb ...\n",
            "Unpacking libta-lib0 (0.4.0-oneiric1) ...\n",
            "Selecting previously unselected package ta-lib0-dev.\n",
            "Preparing to unpack ta.deb ...\n",
            "Unpacking ta-lib0-dev (0.4.0-oneiric1) ...\n",
            "Setting up libta-lib0 (0.4.0-oneiric1) ...\n",
            "Setting up ta-lib0-dev (0.4.0-oneiric1) ...\n",
            "Processing triggers for man-db (2.8.3-2ubuntu0.1) ...\n",
            "Processing triggers for libc-bin (2.27-3ubuntu1) ...\n",
            "/sbin/ldconfig.real: /usr/local/lib/python3.6/dist-packages/ideep4py/lib/libmkldnn.so.0 is not a symbolic link\n",
            "\n",
            "Collecting ta-lib\n",
            "\u001b[?25l  Downloading https://files.pythonhosted.org/packages/d7/15/ebf1a6ebcf7580dc53e342979c7425affc38ef272bc10a7f4565ee87b394/TA-Lib-0.4.18.tar.gz (265kB)\n",
            "\u001b[K     |████████████████████████████████| 266kB 5.0MB/s \n",
            "\u001b[?25hRequirement already satisfied: numpy in /usr/local/lib/python3.6/dist-packages (from ta-lib) (1.18.5)\n",
            "Building wheels for collected packages: ta-lib\n",
            "  Building wheel for ta-lib (setup.py) ... \u001b[?25l\u001b[?25hdone\n",
            "  Created wheel for ta-lib: filename=TA_Lib-0.4.18-cp36-cp36m-linux_x86_64.whl size=1531844 sha256=d2fa68b008ae1cbc1dfd19f5e399722bb19fa3adab2fb422b683124295fd0a8a\n",
            "  Stored in directory: /root/.cache/pip/wheels/11/cc/88/20dc42c28a07efb297dad4303948ef6dd4a3c7257553db8f09\n",
            "Successfully built ta-lib\n",
            "Installing collected packages: ta-lib\n",
            "Successfully installed ta-lib-0.4.18\n"
          ],
          "name": "stdout"
        }
      ]
    },
    {
      "cell_type": "markdown",
      "metadata": {
        "id": "vztyCdfVWzqF",
        "colab_type": "text"
      },
      "source": [
        "### Import necessary libraries"
      ]
    },
    {
      "cell_type": "code",
      "metadata": {
        "id": "rW7oZ9izuJz_",
        "colab_type": "code",
        "colab": {
          "base_uri": "https://localhost:8080/",
          "height": 34
        },
        "outputId": "b1ffad46-5898-4fd5-c3de-41743b775ebc"
      },
      "source": [
        "#Import Libraries\n",
        "\n",
        "import warnings\n",
        "warnings.filterwarnings(\"ignore\")\n",
        "\n",
        "import os\n",
        "import math\n",
        "import pandas as pd\n",
        "import numpy as np\n",
        "import talib\n",
        "import matplotlib.pyplot as plt\n",
        "%matplotlib inline\n",
        "import datetime\n",
        "from sklearn.preprocessing import MinMaxScaler, minmax_scale\n",
        "from keras.layers import Dense, LSTM, Dropout\n",
        "from keras.models import Sequential\n",
        "from sklearn.svm import SVR\n",
        "from sklearn.ensemble import RandomForestRegressor, GradientBoostingRegressor\n",
        "from sklearn.model_selection import train_test_split"
      ],
      "execution_count": null,
      "outputs": [
        {
          "output_type": "stream",
          "text": [
            "Using TensorFlow backend.\n"
          ],
          "name": "stderr"
        }
      ]
    },
    {
      "cell_type": "markdown",
      "metadata": {
        "id": "m6h1WBEUW4MH",
        "colab_type": "text"
      },
      "source": [
        "### Reading Dataset"
      ]
    },
    {
      "cell_type": "code",
      "metadata": {
        "id": "WJdsfHuiuPER",
        "colab_type": "code",
        "colab": {
          "base_uri": "https://localhost:8080/",
          "height": 402
        },
        "outputId": "2867bd3e-3b47-42d6-f743-a7df3c1c34ba"
      },
      "source": [
        "#change the directory back to '/content/' to read uploaded dataset\n",
        "os.chdir('/content/')\n",
        "\n",
        "# Read the csv file\n",
        "df = pd.read_csv('WIPRO_merger_12months.csv', date_parser=True)\n",
        "\n",
        "df = df[['Open', 'High', 'Low', 'Close']]\n",
        "df.dropna(inplace=True)\n",
        "df_copy = df.copy()\n",
        "\n",
        "stock_open = df['Open']\n",
        "stock_high = df['High']\n",
        "stock_low = df['Low']\n",
        "stock_close = df['Close']\n",
        "\n",
        "df"
      ],
      "execution_count": null,
      "outputs": [
        {
          "output_type": "execute_result",
          "data": {
            "text/html": [
              "<div>\n",
              "<style scoped>\n",
              "    .dataframe tbody tr th:only-of-type {\n",
              "        vertical-align: middle;\n",
              "    }\n",
              "\n",
              "    .dataframe tbody tr th {\n",
              "        vertical-align: top;\n",
              "    }\n",
              "\n",
              "    .dataframe thead th {\n",
              "        text-align: right;\n",
              "    }\n",
              "</style>\n",
              "<table border=\"1\" class=\"dataframe\">\n",
              "  <thead>\n",
              "    <tr style=\"text-align: right;\">\n",
              "      <th></th>\n",
              "      <th>Open</th>\n",
              "      <th>High</th>\n",
              "      <th>Low</th>\n",
              "      <th>Close</th>\n",
              "    </tr>\n",
              "  </thead>\n",
              "  <tbody>\n",
              "    <tr>\n",
              "      <th>0</th>\n",
              "      <td>330.65</td>\n",
              "      <td>332.75</td>\n",
              "      <td>329.00</td>\n",
              "      <td>329.90</td>\n",
              "    </tr>\n",
              "    <tr>\n",
              "      <th>1</th>\n",
              "      <td>330.00</td>\n",
              "      <td>330.50</td>\n",
              "      <td>326.75</td>\n",
              "      <td>328.50</td>\n",
              "    </tr>\n",
              "    <tr>\n",
              "      <th>2</th>\n",
              "      <td>328.50</td>\n",
              "      <td>329.60</td>\n",
              "      <td>328.50</td>\n",
              "      <td>329.05</td>\n",
              "    </tr>\n",
              "    <tr>\n",
              "      <th>3</th>\n",
              "      <td>329.10</td>\n",
              "      <td>329.35</td>\n",
              "      <td>328.40</td>\n",
              "      <td>329.50</td>\n",
              "    </tr>\n",
              "    <tr>\n",
              "      <th>4</th>\n",
              "      <td>329.50</td>\n",
              "      <td>329.85</td>\n",
              "      <td>328.30</td>\n",
              "      <td>329.40</td>\n",
              "    </tr>\n",
              "    <tr>\n",
              "      <th>...</th>\n",
              "      <td>...</td>\n",
              "      <td>...</td>\n",
              "      <td>...</td>\n",
              "      <td>...</td>\n",
              "    </tr>\n",
              "    <tr>\n",
              "      <th>3169</th>\n",
              "      <td>248.00</td>\n",
              "      <td>248.60</td>\n",
              "      <td>247.85</td>\n",
              "      <td>248.15</td>\n",
              "    </tr>\n",
              "    <tr>\n",
              "      <th>3170</th>\n",
              "      <td>248.05</td>\n",
              "      <td>248.10</td>\n",
              "      <td>247.05</td>\n",
              "      <td>247.35</td>\n",
              "    </tr>\n",
              "    <tr>\n",
              "      <th>3171</th>\n",
              "      <td>247.40</td>\n",
              "      <td>247.40</td>\n",
              "      <td>246.65</td>\n",
              "      <td>246.80</td>\n",
              "    </tr>\n",
              "    <tr>\n",
              "      <th>3172</th>\n",
              "      <td>246.85</td>\n",
              "      <td>247.30</td>\n",
              "      <td>245.30</td>\n",
              "      <td>245.80</td>\n",
              "    </tr>\n",
              "    <tr>\n",
              "      <th>3173</th>\n",
              "      <td>245.80</td>\n",
              "      <td>246.10</td>\n",
              "      <td>245.35</td>\n",
              "      <td>246.05</td>\n",
              "    </tr>\n",
              "  </tbody>\n",
              "</table>\n",
              "<p>3174 rows × 4 columns</p>\n",
              "</div>"
            ],
            "text/plain": [
              "        Open    High     Low   Close\n",
              "0     330.65  332.75  329.00  329.90\n",
              "1     330.00  330.50  326.75  328.50\n",
              "2     328.50  329.60  328.50  329.05\n",
              "3     329.10  329.35  328.40  329.50\n",
              "4     329.50  329.85  328.30  329.40\n",
              "...      ...     ...     ...     ...\n",
              "3169  248.00  248.60  247.85  248.15\n",
              "3170  248.05  248.10  247.05  247.35\n",
              "3171  247.40  247.40  246.65  246.80\n",
              "3172  246.85  247.30  245.30  245.80\n",
              "3173  245.80  246.10  245.35  246.05\n",
              "\n",
              "[3174 rows x 4 columns]"
            ]
          },
          "metadata": {
            "tags": []
          },
          "execution_count": 3
        }
      ]
    },
    {
      "cell_type": "markdown",
      "metadata": {
        "id": "3KRvzozqW7cU",
        "colab_type": "text"
      },
      "source": [
        "### Technical Indicators"
      ]
    },
    {
      "cell_type": "markdown",
      "metadata": {
        "id": "DnpGh0NFW-Ph",
        "colab_type": "text"
      },
      "source": [
        "### TREND INDICATORS"
      ]
    },
    {
      "cell_type": "code",
      "metadata": {
        "id": "K3c_YBIGuRGv",
        "colab_type": "code",
        "colab": {}
      },
      "source": [
        "#Compute MACD and MACD Histogram\n",
        "macd, macdsignal, macdhist = talib.MACD(stock_close, fastperiod=12, slowperiod=26, signalperiod=9)\n",
        "\n",
        "dict = {'MACD': macd, 'MSIG': macdsignal}\n",
        "macdata = []\n",
        "macdata = pd.DataFrame(data=dict)\n",
        "macdata.dropna(inplace=True)\n",
        "\n",
        "macdata['MACD_Signal1'] = macdata.apply(lambda x : 1 if x['MACD'] > x['MSIG'] else 0, axis = 1)\n",
        "\n",
        "n_days = len(macdata['MACD'])\n",
        "Signal = np.array(macdata['MACD_Signal1'])\n",
        "psy = []\n",
        "\n",
        "\n",
        "\n",
        "for d in range(0, n_days):\n",
        "    \n",
        "    if Signal[d] == 1:\n",
        "        psycology = 1\n",
        "        psy.append(psycology)\n",
        "    \n",
        "    elif Signal[d] == 0:\n",
        "        psycology = 0\n",
        "        psy.append(psycology)\n",
        "        \n",
        "macdata['MACD_Signal'] = psy\n",
        "\n",
        "del macdata['MACD_Signal1']\n",
        "\n",
        "dict = {'MHIST': macdhist, 'PrevMHIST': macdhist.shift(1)}\n",
        "machdata = []\n",
        "machdata = pd.DataFrame(data=dict)\n",
        "machdata.dropna(inplace=True)\n",
        "\n",
        "machdata['MHIST_Signal1'] = machdata.apply(lambda x : 1 if x['MHIST'] > x['PrevMHIST'] else 0, axis = 1)\n",
        "\n",
        "n_days = len(machdata['MHIST'])\n",
        "Signal = np.array(machdata['MHIST_Signal1'])\n",
        "psy = []\n",
        "\n",
        "for d in range(0, n_days):\n",
        "    \n",
        "    if Signal[d] == 1:\n",
        "        psycology = 1\n",
        "        psy.append(psycology)\n",
        "    \n",
        "    elif Signal[d] == 0:\n",
        "        psycology = 0\n",
        "        psy.append(psycology)\n",
        "        \n",
        "machdata['MHIST_Signal'] = psy\n",
        "\n",
        "del machdata['MHIST_Signal1']"
      ],
      "execution_count": null,
      "outputs": []
    },
    {
      "cell_type": "code",
      "metadata": {
        "id": "zDaNbJDPuVal",
        "colab_type": "code",
        "colab": {
          "base_uri": "https://localhost:8080/",
          "height": 218
        },
        "outputId": "03b9065c-dde6-4229-9f88-2b7da6ed9429"
      },
      "source": [
        "#Compute Average Directional Index (ADX)\n",
        "adx = talib.ADX(stock_high, stock_low, stock_close, timeperiod=14)\n",
        "\n",
        "dict = {'Close': stock_close, 'ADX': adx }\n",
        "\n",
        "adxdata = []\n",
        "adxdata = pd.DataFrame(data=dict)\n",
        "adxdata.dropna(inplace=True)\n",
        "\n",
        "adxdata['adx1'] = adxdata.apply(lambda x : 1 if x['ADX'] > 25 else 0, axis=1)\n",
        "adxdata['adx2'] = adxdata.apply(lambda x : -1 if x['ADX'] < 20 else 0, axis=1)\n",
        "\n",
        "adxdata['Signw'] = adxdata.apply(lambda x : x['adx1'] + x['adx2'] , axis=1)\n",
        "\n",
        "n_days = len(adxdata['ADX'])\n",
        "Signal = np.array(adxdata['Signw'])\n",
        "psy = []\n",
        "\n",
        "for d in range(0, n_days):\n",
        "    if Signal[d] == 1:\n",
        "        psycology = 1\n",
        "        psy.append(psycology)\n",
        "    \n",
        "    elif Signal[d] == -1:\n",
        "        psycology = 0\n",
        "        psy.append(psycology)\n",
        "    \n",
        "    elif Signal[d] == 0:\n",
        "        psycology = 0\n",
        "        psy.append(psycology)\n",
        "        \n",
        "        \n",
        "adxdata['Trend'] = psy\n",
        "\n",
        "# del adxdata['Signw']\n",
        "# del adxdata['adx1']\n",
        "# del adxdata['adx2']\n",
        "\n",
        "adxdata['ADX']"
      ],
      "execution_count": null,
      "outputs": [
        {
          "output_type": "execute_result",
          "data": {
            "text/plain": [
              "27      33.553372\n",
              "28      33.050630\n",
              "29      32.943934\n",
              "30      32.844859\n",
              "31      32.370302\n",
              "          ...    \n",
              "3169    20.173473\n",
              "3170    18.974872\n",
              "3171    17.829767\n",
              "3172    18.029370\n",
              "3173    18.214715\n",
              "Name: ADX, Length: 3147, dtype: float64"
            ]
          },
          "metadata": {
            "tags": []
          },
          "execution_count": 5
        }
      ]
    },
    {
      "cell_type": "code",
      "metadata": {
        "id": "byZ6NGVb4lkN",
        "colab_type": "code",
        "colab": {}
      },
      "source": [
        "#Compute Parabolic SAR\n",
        "\n",
        "sar = talib.SAR(stock_high, stock_low, acceleration=0.02, maximum=0.2)\n",
        "\n",
        "dict = {'Close' : stock_close, 'SAR' : sar}\n",
        "\n",
        "sardata = []\n",
        "sardata = pd.DataFrame(data=dict)\n",
        "sardata.dropna(inplace=True)\n",
        "\n",
        "sardata['sar1'] = sardata.apply(lambda x: 1 if x['Close'] > x['SAR'] else 0, axis=1)\n",
        "sardata['sar2'] = sardata.apply(lambda x: -1 if x['Close'] < x['SAR'] else 0, axis=1)\n",
        "sardata['Sign1'] = sardata.apply(lambda x: x['sar1'] + x['sar2'], axis=1)\n",
        "\n",
        "n_days = len(sardata['SAR'])\n",
        "Signal = np.array(sardata['Sign1'])\n",
        "psy = []\n",
        "\n",
        "for d in range(0, n_days):\n",
        "    if Signal[d] == 1:\n",
        "        psycology = 1\n",
        "        psy.append(psycology)\n",
        "    \n",
        "    elif Signal[d] == -1:\n",
        "        psycology = 0\n",
        "        psy.append(psycology)\n",
        "    \n",
        "    elif Signal[d] == 0:\n",
        "        psycology = 0\n",
        "        psy.append(psycology)\n",
        "        \n",
        "        \n",
        "sardata['Trend'] = psy\n",
        "\n",
        "# del sardata['Sign1']\n",
        "# del sardata['sar1']\n",
        "# del sardata['sar2']\n"
      ],
      "execution_count": null,
      "outputs": []
    },
    {
      "cell_type": "markdown",
      "metadata": {
        "id": "2boSjvmMXJsj",
        "colab_type": "text"
      },
      "source": [
        "### MOMENTUM INDICATORS"
      ]
    },
    {
      "cell_type": "code",
      "metadata": {
        "id": "TBwL4i0yuTDn",
        "colab_type": "code",
        "colab": {
          "base_uri": "https://localhost:8080/",
          "height": 218
        },
        "outputId": "73f1f7d8-41c6-49f7-ea34-a51dd3e44646"
      },
      "source": [
        "# #Compute Relatie Strength Index (RSI)\n",
        "rsi = talib.RSI(stock_close, timeperiod=13)\n",
        "\n",
        "dict = {'Close': stock_close, 'RSI': rsi }\n",
        "\n",
        "rsidata = []\n",
        "rsidata = pd.DataFrame(data=dict)\n",
        "rsidata.dropna(inplace=True)\n",
        "\n",
        "rsidata['rsi1'] = rsidata.apply(lambda x : 1 if x['RSI'] < 30 else 0, axis=1)\n",
        "rsidata['rsi2'] = rsidata.apply(lambda x : -1 if x['RSI'] > 70 else 0, axis=1)\n",
        "rsidata['Sign1'] = rsidata.apply(lambda x : x['rsi1'] + x['rsi2'], axis=1)\n",
        "\n",
        "n_days = len(rsidata['RSI'])\n",
        "Signal = np.array(rsidata['Sign1'])\n",
        "psy = []\n",
        "\n",
        "for d in range(0, n_days):\n",
        "    if Signal[d] == 1:\n",
        "        psycology = 1\n",
        "        psy.append(psycology)\n",
        "    \n",
        "    elif Signal[d] == -1:\n",
        "        psycology = 0\n",
        "        psy.append(psycology)\n",
        "    \n",
        "    elif Signal[d] == 0:\n",
        "        psycology = 0\n",
        "        psy.append(psycology)\n",
        "        \n",
        "rsidata['Psycology'] = psy\n",
        "\n",
        "# del rsidata['Sign1']\n",
        "# del rsidata['rsi1']\n",
        "# del rsidata['rsi2']\n",
        "\n",
        "rsidata['RSI']"
      ],
      "execution_count": null,
      "outputs": [
        {
          "output_type": "execute_result",
          "data": {
            "text/plain": [
              "13      46.710526\n",
              "14      47.087643\n",
              "15      45.016914\n",
              "16      40.804961\n",
              "17      40.804961\n",
              "          ...    \n",
              "3169    52.368288\n",
              "3170    46.350701\n",
              "3171    42.696587\n",
              "3172    36.957673\n",
              "3173    39.172002\n",
              "Name: RSI, Length: 3161, dtype: float64"
            ]
          },
          "metadata": {
            "tags": []
          },
          "execution_count": 7
        }
      ]
    },
    {
      "cell_type": "code",
      "metadata": {
        "id": "RpX1ZiSFN8uz",
        "colab_type": "code",
        "colab": {
          "base_uri": "https://localhost:8080/",
          "height": 218
        },
        "outputId": "63beb836-32b7-40c3-81ca-e146be598684"
      },
      "source": [
        "# Compute Stochastic \n",
        "slowk, slowd = talib.STOCH(stock_high, stock_low, stock_close, fastk_period=13, slowk_period=3, slowk_matype=0, slowd_period=3, slowd_matype=0)\n",
        "\n",
        "dict  = {'Close' : stock_close, 'SOK' : slowk, 'SOD' : slowd}\n",
        "\n",
        "sodata = []\n",
        "sodata = pd.DataFrame(data=dict)\n",
        "sodata.dropna(inplace=True)\n",
        "\n",
        "sodata['d1'] = sodata.apply(lambda x: 1 if x['SOK'] < 20 and x['SOD'] < 20 else 0, axis=1)\n",
        "sodata['d2'] = sodata.apply(lambda x: -1 if x['SOK'] > 80 and x['SOD'] > 80 else 0, axis=1)\n",
        "sodata['Sign1'] = sodata.apply(lambda x: x['d1'] + x['d2'], axis=1)\n",
        "\n",
        "n_days = len(sodata['SOK'])\n",
        "Signal = np.array(sodata['Sign1'])\n",
        "psy = []\n",
        "\n",
        "for d in range(0, n_days):\n",
        "    if Signal[d] == 1:\n",
        "        psycology = 1\n",
        "        psy.append(psycology)\n",
        "    \n",
        "    elif Signal[d] == -1:\n",
        "        psycology = 0\n",
        "        psy.append(psycology)\n",
        "    \n",
        "    elif Signal[d] == 0:\n",
        "        psycology = 0\n",
        "        psy.append(psycology)\n",
        "        \n",
        "sodata['Psycology'] = psy\n",
        "\n",
        "# del sodata['Sign1']\n",
        "# del sodata['d1']\n",
        "# del sodata['d2']\n",
        "\n",
        "sodata['Sign1']"
      ],
      "execution_count": null,
      "outputs": [
        {
          "output_type": "execute_result",
          "data": {
            "text/plain": [
              "16      0.0\n",
              "17      0.0\n",
              "18      0.0\n",
              "19      0.0\n",
              "20      0.0\n",
              "       ... \n",
              "3169    0.0\n",
              "3170    0.0\n",
              "3171    0.0\n",
              "3172    0.0\n",
              "3173    0.0\n",
              "Name: Sign1, Length: 3158, dtype: float64"
            ]
          },
          "metadata": {
            "tags": []
          },
          "execution_count": 8
        }
      ]
    },
    {
      "cell_type": "code",
      "metadata": {
        "id": "WqQT6xUcXhzP",
        "colab_type": "code",
        "colab": {
          "base_uri": "https://localhost:8080/",
          "height": 218
        },
        "outputId": "c18a35c9-8326-49a0-a846-869e8ace5de3"
      },
      "source": [
        "#Compute Commodity Chanel Index\n",
        "\n",
        "real = talib.CCI(stock_high, stock_low, stock_close, timeperiod=13)\n",
        "\n",
        "dict = {'Close': stock_close, 'CCI': real }\n",
        "\n",
        "ccidata = []\n",
        "ccidata = pd.DataFrame(data=dict)\n",
        "ccidata.dropna(inplace=True)\n",
        "\n",
        "ccidata['cci1'] = ccidata.apply(lambda x : 1 if x['CCI'] < -100 else 0, axis=1)\n",
        "ccidata['cci2'] = ccidata.apply(lambda x : -1 if x['CCI'] > 100 else 0, axis=1)\n",
        "ccidata['Sign1'] = ccidata.apply(lambda x : x['cci1'] + x['cci2'], axis=1)\n",
        "\n",
        "n_days = len(ccidata['CCI'])\n",
        "Signal = np.array(ccidata['Sign1'])\n",
        "psy = []\n",
        "\n",
        "for d in range(0, n_days):\n",
        "    if Signal[d] == 1:\n",
        "        psycology = 1\n",
        "        psy.append(psycology)\n",
        "    \n",
        "    elif Signal[d] == -1:\n",
        "        psycology = 0\n",
        "        psy.append(psycology)\n",
        "    \n",
        "    elif Signal[d] == 0:\n",
        "        psycology = 0\n",
        "        psy.append(psycology)\n",
        "        \n",
        "ccidata['Psycology'] = psy\n",
        "\n",
        "# del ccidata['Sign1']\n",
        "# del ccidata['cci1']\n",
        "# del ccidata['cci2']\n",
        "\n",
        "ccidata['CCI']"
      ],
      "execution_count": null,
      "outputs": [
        {
          "output_type": "execute_result",
          "data": {
            "text/plain": [
              "12     -116.633923\n",
              "13       24.252533\n",
              "14       52.192814\n",
              "15       54.105737\n",
              "16      -27.639640\n",
              "           ...    \n",
              "3169     93.959008\n",
              "3170     11.874154\n",
              "3171    -50.516622\n",
              "3172   -127.094972\n",
              "3173   -144.872270\n",
              "Name: CCI, Length: 3162, dtype: float64"
            ]
          },
          "metadata": {
            "tags": []
          },
          "execution_count": 9
        }
      ]
    },
    {
      "cell_type": "markdown",
      "metadata": {
        "id": "dEJghenAXOVM",
        "colab_type": "text"
      },
      "source": [
        "  ### VOLATILITY INDICATORS"
      ]
    },
    {
      "cell_type": "code",
      "metadata": {
        "id": "n2TNUYyHuXbv",
        "colab_type": "code",
        "colab": {
          "base_uri": "https://localhost:8080/"
        },
        "outputId": "9a2bf826-2f1e-475d-f70d-a58db387243d"
      },
      "source": [
        "#Compute Bollinger Bands\n",
        "upper, middle, lower = talib.BBANDS(stock_close, timeperiod=26)\n",
        "\n",
        "dict = {'Close': stock_close, 'Middle': middle, 'Upper': upper, 'Lower': lower }\n",
        "\n",
        "bbdata = []\n",
        "bbdata = pd.DataFrame(data=dict)\n",
        "bbdata.dropna(inplace=True)\n",
        "\n",
        "#Generate the Long and Short Signals\n",
        "n_days = len(bbdata['Middle'])\n",
        "cash = 1\n",
        "stock = 0\n",
        "\n",
        "position = []\n",
        "\n",
        "spread = stock_close\n",
        "ma = middle\n",
        "upper_band = upper\n",
        "lower_band = lower\n",
        "\n",
        "for d in range(0, n_days):\n",
        "    \n",
        "    # Long if spread < lower band & if not bought yet\n",
        "    if spread[d] < lower_band[d] and cash == 1:\n",
        "        signal = 1\n",
        "        cash = 0\n",
        "        stock = 1\n",
        "        position.append(signal)\n",
        "        \n",
        "        \n",
        "    # Take Profit if spread > moving average & if already bought\n",
        "    elif spread[d] > ma[d] and stock == 1:\n",
        "        signal = 3\n",
        "        cash = 1\n",
        "        stock = 0\n",
        "        position.append(signal)\n",
        "        \n",
        "    # Short if spread > upper band and no current position\n",
        "    elif spread[d] > upper_band[d] and cash == 1:\n",
        "        signal = -1\n",
        "        cash = 0\n",
        "        stock = -1\n",
        "        position.append(signal)\n",
        "        \n",
        "\n",
        "    # Take Profit if spread < moving average & if already short\n",
        "    elif spread[d] < ma[d] and stock == -1:\n",
        "        signal = 3\n",
        "        cash = 1\n",
        "        stock = 0\n",
        "        position.append(signal)\n",
        "    \n",
        "    else:\n",
        "        signal = 0\n",
        "        position.append(signal)\n",
        "        \n",
        "bbdata['Position1'] = position\n",
        "bbdata['Position1'] = bbdata['Position1'].replace(to_replace=0, method= 'ffill')\n",
        "bbdata['Position1'] = bbdata['Position1'].replace(3,0)\n",
        "bbdata['Position'] = bbdata['Position1']\n",
        "\n",
        "del bbdata['Position1']\n",
        "\n",
        "t_days = len(bbdata['Middle'])\n",
        "Signal = np.array(bbdata['Position'])\n",
        "pos = []\n",
        "\n",
        "for d in range(0, t_days):\n",
        "    if Signal[d] == 0:\n",
        "        strategy = 0\n",
        "        pos.append(strategy)\n",
        "    \n",
        "    elif Signal[d] == 1:\n",
        "        strategy = 1\n",
        "        pos.append(strategy)\n",
        "    \n",
        "    elif Signal[d] == -1:\n",
        "        strategy = 0\n",
        "        pos.append(strategy)\n",
        "\n",
        "bbdata['Strategy'] = pos\n",
        "\n",
        "bbdata"
      ],
      "execution_count": null,
      "outputs": [
        {
          "output_type": "execute_result",
          "data": {
            "text/html": [
              "<div>\n",
              "<style scoped>\n",
              "    .dataframe tbody tr th:only-of-type {\n",
              "        vertical-align: middle;\n",
              "    }\n",
              "\n",
              "    .dataframe tbody tr th {\n",
              "        vertical-align: top;\n",
              "    }\n",
              "\n",
              "    .dataframe thead th {\n",
              "        text-align: right;\n",
              "    }\n",
              "</style>\n",
              "<table border=\"1\" class=\"dataframe\">\n",
              "  <thead>\n",
              "    <tr style=\"text-align: right;\">\n",
              "      <th></th>\n",
              "      <th>Close</th>\n",
              "      <th>Middle</th>\n",
              "      <th>Upper</th>\n",
              "      <th>Lower</th>\n",
              "      <th>Position</th>\n",
              "      <th>Strategy</th>\n",
              "    </tr>\n",
              "  </thead>\n",
              "  <tbody>\n",
              "    <tr>\n",
              "      <th>25</th>\n",
              "      <td>325.40</td>\n",
              "      <td>327.971154</td>\n",
              "      <td>331.587375</td>\n",
              "      <td>324.354933</td>\n",
              "      <td>0</td>\n",
              "      <td>0</td>\n",
              "    </tr>\n",
              "    <tr>\n",
              "      <th>26</th>\n",
              "      <td>323.40</td>\n",
              "      <td>327.721154</td>\n",
              "      <td>331.654265</td>\n",
              "      <td>323.788043</td>\n",
              "      <td>0</td>\n",
              "      <td>0</td>\n",
              "    </tr>\n",
              "    <tr>\n",
              "      <th>27</th>\n",
              "      <td>325.15</td>\n",
              "      <td>327.592308</td>\n",
              "      <td>331.632937</td>\n",
              "      <td>323.551678</td>\n",
              "      <td>0</td>\n",
              "      <td>0</td>\n",
              "    </tr>\n",
              "    <tr>\n",
              "      <th>28</th>\n",
              "      <td>324.95</td>\n",
              "      <td>327.434615</td>\n",
              "      <td>331.554620</td>\n",
              "      <td>323.314611</td>\n",
              "      <td>0</td>\n",
              "      <td>0</td>\n",
              "    </tr>\n",
              "    <tr>\n",
              "      <th>29</th>\n",
              "      <td>325.00</td>\n",
              "      <td>327.261538</td>\n",
              "      <td>331.397991</td>\n",
              "      <td>323.125086</td>\n",
              "      <td>0</td>\n",
              "      <td>0</td>\n",
              "    </tr>\n",
              "    <tr>\n",
              "      <th>...</th>\n",
              "      <td>...</td>\n",
              "      <td>...</td>\n",
              "      <td>...</td>\n",
              "      <td>...</td>\n",
              "      <td>...</td>\n",
              "      <td>...</td>\n",
              "    </tr>\n",
              "    <tr>\n",
              "      <th>3169</th>\n",
              "      <td>248.15</td>\n",
              "      <td>247.694231</td>\n",
              "      <td>249.408723</td>\n",
              "      <td>245.979739</td>\n",
              "      <td>1</td>\n",
              "      <td>1</td>\n",
              "    </tr>\n",
              "    <tr>\n",
              "      <th>3170</th>\n",
              "      <td>247.35</td>\n",
              "      <td>247.650000</td>\n",
              "      <td>249.338194</td>\n",
              "      <td>245.961806</td>\n",
              "      <td>1</td>\n",
              "      <td>1</td>\n",
              "    </tr>\n",
              "    <tr>\n",
              "      <th>3171</th>\n",
              "      <td>246.80</td>\n",
              "      <td>247.642308</td>\n",
              "      <td>249.344047</td>\n",
              "      <td>245.940568</td>\n",
              "      <td>1</td>\n",
              "      <td>1</td>\n",
              "    </tr>\n",
              "    <tr>\n",
              "      <th>3172</th>\n",
              "      <td>245.80</td>\n",
              "      <td>247.575000</td>\n",
              "      <td>249.418544</td>\n",
              "      <td>245.731456</td>\n",
              "      <td>1</td>\n",
              "      <td>1</td>\n",
              "    </tr>\n",
              "    <tr>\n",
              "      <th>3173</th>\n",
              "      <td>246.05</td>\n",
              "      <td>247.509615</td>\n",
              "      <td>249.442135</td>\n",
              "      <td>245.577096</td>\n",
              "      <td>1</td>\n",
              "      <td>1</td>\n",
              "    </tr>\n",
              "  </tbody>\n",
              "</table>\n",
              "<p>3149 rows × 6 columns</p>\n",
              "</div>"
            ],
            "text/plain": [
              "       Close      Middle       Upper       Lower  Position  Strategy\n",
              "25    325.40  327.971154  331.587375  324.354933         0         0\n",
              "26    323.40  327.721154  331.654265  323.788043         0         0\n",
              "27    325.15  327.592308  331.632937  323.551678         0         0\n",
              "28    324.95  327.434615  331.554620  323.314611         0         0\n",
              "29    325.00  327.261538  331.397991  323.125086         0         0\n",
              "...      ...         ...         ...         ...       ...       ...\n",
              "3169  248.15  247.694231  249.408723  245.979739         1         1\n",
              "3170  247.35  247.650000  249.338194  245.961806         1         1\n",
              "3171  246.80  247.642308  249.344047  245.940568         1         1\n",
              "3172  245.80  247.575000  249.418544  245.731456         1         1\n",
              "3173  246.05  247.509615  249.442135  245.577096         1         1\n",
              "\n",
              "[3149 rows x 6 columns]"
            ]
          },
          "metadata": {
            "tags": []
          },
          "execution_count": 10
        }
      ]
    },
    {
      "cell_type": "markdown",
      "metadata": {
        "id": "1v7j2xO5XS5y",
        "colab_type": "text"
      },
      "source": [
        "### Next Closing Price"
      ]
    },
    {
      "cell_type": "code",
      "metadata": {
        "id": "n5PQ7i8iuZon",
        "colab_type": "code",
        "colab": {
          "base_uri": "https://localhost:8080/"
        },
        "outputId": "d62aab78-5b89-4be0-ff0c-55213f7e9345"
      },
      "source": [
        "# Computing Next DataPoint Move\n",
        "#Compute Weekly Stock Move and Iddentify if > 0.003\n",
        "stock_move = stock_close.shift(-1)\n",
        "\n",
        "dict = {'Close': stock_close, 'Move': stock_move}\n",
        "\n",
        "sdmdata = []\n",
        "sdmdata = pd.DataFrame(data=dict)\n",
        "sdmdata.dropna(inplace=True)\n",
        "\n",
        "sdmdata['sign'] = sdmdata.apply(lambda x : 1 if np.log(x['Move']/x['Close']) > 0 else -1, axis=1)\n",
        "\n",
        "\n",
        "n_days = len(sdmdata['Move'])\n",
        "Signal = sdmdata['sign']\n",
        "psy = []\n",
        "\n",
        "for d in range(0, n_days):\n",
        "    if Signal[d] == 1:\n",
        "        psycology = 1\n",
        "        psy.append(psycology)\n",
        "    \n",
        "    elif Signal[d] == -1:\n",
        "        psycology = 0\n",
        "        psy.append(psycology)\n",
        "    \n",
        "      \n",
        "sdmdata['Next Point Move'] = psy\n",
        "\n",
        "del sdmdata['sign']\n",
        "\n",
        "sdmdata"
      ],
      "execution_count": null,
      "outputs": [
        {
          "output_type": "execute_result",
          "data": {
            "text/html": [
              "<div>\n",
              "<style scoped>\n",
              "    .dataframe tbody tr th:only-of-type {\n",
              "        vertical-align: middle;\n",
              "    }\n",
              "\n",
              "    .dataframe tbody tr th {\n",
              "        vertical-align: top;\n",
              "    }\n",
              "\n",
              "    .dataframe thead th {\n",
              "        text-align: right;\n",
              "    }\n",
              "</style>\n",
              "<table border=\"1\" class=\"dataframe\">\n",
              "  <thead>\n",
              "    <tr style=\"text-align: right;\">\n",
              "      <th></th>\n",
              "      <th>Close</th>\n",
              "      <th>Move</th>\n",
              "      <th>Next Point Move</th>\n",
              "    </tr>\n",
              "  </thead>\n",
              "  <tbody>\n",
              "    <tr>\n",
              "      <th>0</th>\n",
              "      <td>329.90</td>\n",
              "      <td>328.50</td>\n",
              "      <td>0</td>\n",
              "    </tr>\n",
              "    <tr>\n",
              "      <th>1</th>\n",
              "      <td>328.50</td>\n",
              "      <td>329.05</td>\n",
              "      <td>1</td>\n",
              "    </tr>\n",
              "    <tr>\n",
              "      <th>2</th>\n",
              "      <td>329.05</td>\n",
              "      <td>329.50</td>\n",
              "      <td>1</td>\n",
              "    </tr>\n",
              "    <tr>\n",
              "      <th>3</th>\n",
              "      <td>329.50</td>\n",
              "      <td>329.40</td>\n",
              "      <td>0</td>\n",
              "    </tr>\n",
              "    <tr>\n",
              "      <th>4</th>\n",
              "      <td>329.40</td>\n",
              "      <td>329.30</td>\n",
              "      <td>0</td>\n",
              "    </tr>\n",
              "    <tr>\n",
              "      <th>...</th>\n",
              "      <td>...</td>\n",
              "      <td>...</td>\n",
              "      <td>...</td>\n",
              "    </tr>\n",
              "    <tr>\n",
              "      <th>3168</th>\n",
              "      <td>247.85</td>\n",
              "      <td>248.15</td>\n",
              "      <td>1</td>\n",
              "    </tr>\n",
              "    <tr>\n",
              "      <th>3169</th>\n",
              "      <td>248.15</td>\n",
              "      <td>247.35</td>\n",
              "      <td>0</td>\n",
              "    </tr>\n",
              "    <tr>\n",
              "      <th>3170</th>\n",
              "      <td>247.35</td>\n",
              "      <td>246.80</td>\n",
              "      <td>0</td>\n",
              "    </tr>\n",
              "    <tr>\n",
              "      <th>3171</th>\n",
              "      <td>246.80</td>\n",
              "      <td>245.80</td>\n",
              "      <td>0</td>\n",
              "    </tr>\n",
              "    <tr>\n",
              "      <th>3172</th>\n",
              "      <td>245.80</td>\n",
              "      <td>246.05</td>\n",
              "      <td>1</td>\n",
              "    </tr>\n",
              "  </tbody>\n",
              "</table>\n",
              "<p>3173 rows × 3 columns</p>\n",
              "</div>"
            ],
            "text/plain": [
              "       Close    Move  Next Point Move\n",
              "0     329.90  328.50                0\n",
              "1     328.50  329.05                1\n",
              "2     329.05  329.50                1\n",
              "3     329.50  329.40                0\n",
              "4     329.40  329.30                0\n",
              "...      ...     ...              ...\n",
              "3168  247.85  248.15                1\n",
              "3169  248.15  247.35                0\n",
              "3170  247.35  246.80                0\n",
              "3171  246.80  245.80                0\n",
              "3172  245.80  246.05                1\n",
              "\n",
              "[3173 rows x 3 columns]"
            ]
          },
          "metadata": {
            "tags": []
          },
          "execution_count": 11
        }
      ]
    },
    {
      "cell_type": "markdown",
      "metadata": {
        "id": "E9mMe0csXZN5",
        "colab_type": "text"
      },
      "source": [
        "### Final DataFrame"
      ]
    },
    {
      "cell_type": "code",
      "metadata": {
        "id": "vqFJH4AFubpp",
        "colab_type": "code",
        "colab": {
          "base_uri": "https://localhost:8080/",
          "height": 402
        },
        "outputId": "60d0d696-6ea1-4b54-9072-5b2e7df7caed"
      },
      "source": [
        "# Renaming Technical Indicator DataFrames\n",
        "\n",
        "Close = pd.DataFrame({'Close': stock_close})\n",
        "NM = pd.DataFrame({'NM' : sdmdata['Move']})\n",
        "RSI = pd.DataFrame({'RSI': rsidata['Sign1']})\n",
        "SO = pd.DataFrame({'SO' : sodata['Sign1']})\n",
        "ADX = pd.DataFrame({'ADX': adxdata['Signw']})\n",
        "BB = pd.DataFrame({'BB': bbdata['Strategy']})\n",
        "MACD = pd.DataFrame({'MACD': macdata['MACD_Signal']})\n",
        "MHIST = pd.DataFrame({'MHIST': machdata['MHIST_Signal']})\n",
        "CCI = pd.DataFrame({'CCI' : ccidata['Sign1']})\n",
        "SAR = pd.DataFrame({'SAR' : sardata['Sign1']})\n",
        "# Merging into Single DataFrame\n",
        "\n",
        "merge1 = pd.merge(Close, NM, left_index=True, right_index=True, how='outer')\n",
        "merge2 = pd.merge(merge1, RSI, left_index=True, right_index=True, how='outer')\n",
        "merge3 = pd.merge(merge2, ADX, left_index=True, right_index=True, how='outer')\n",
        "merge4 = pd.merge(merge3, MACD, left_index=True, right_index=True, how='outer')\n",
        "merge5 = pd.merge(merge4, MHIST, left_index=True, right_index=True, how='outer')\n",
        "merge6 = pd.merge(merge5, SO, left_index=True, right_index=True, how='outer')\n",
        "merge7 = pd.merge(merge6, CCI, left_index=True, right_index=True, how='outer')\n",
        "merge8 = pd.merge(merge7, SAR, left_index=True, right_index=True, how='outer')\n",
        "df_final = pd.merge(merge8, BB, left_index=True, right_index=True, how='outer')\n",
        "df_final.dropna(inplace=True)\n",
        "\n",
        "df_final"
      ],
      "execution_count": null,
      "outputs": [
        {
          "output_type": "execute_result",
          "data": {
            "text/html": [
              "<div>\n",
              "<style scoped>\n",
              "    .dataframe tbody tr th:only-of-type {\n",
              "        vertical-align: middle;\n",
              "    }\n",
              "\n",
              "    .dataframe tbody tr th {\n",
              "        vertical-align: top;\n",
              "    }\n",
              "\n",
              "    .dataframe thead th {\n",
              "        text-align: right;\n",
              "    }\n",
              "</style>\n",
              "<table border=\"1\" class=\"dataframe\">\n",
              "  <thead>\n",
              "    <tr style=\"text-align: right;\">\n",
              "      <th></th>\n",
              "      <th>Close</th>\n",
              "      <th>NM</th>\n",
              "      <th>RSI</th>\n",
              "      <th>ADX</th>\n",
              "      <th>MACD</th>\n",
              "      <th>MHIST</th>\n",
              "      <th>SO</th>\n",
              "      <th>CCI</th>\n",
              "      <th>SAR</th>\n",
              "      <th>BB</th>\n",
              "    </tr>\n",
              "  </thead>\n",
              "  <tbody>\n",
              "    <tr>\n",
              "      <th>34</th>\n",
              "      <td>325.35</td>\n",
              "      <td>325.10</td>\n",
              "      <td>0.0</td>\n",
              "      <td>1.0</td>\n",
              "      <td>1.0</td>\n",
              "      <td>1.0</td>\n",
              "      <td>0.0</td>\n",
              "      <td>0.0</td>\n",
              "      <td>-1.0</td>\n",
              "      <td>0.0</td>\n",
              "    </tr>\n",
              "    <tr>\n",
              "      <th>35</th>\n",
              "      <td>325.10</td>\n",
              "      <td>325.20</td>\n",
              "      <td>0.0</td>\n",
              "      <td>1.0</td>\n",
              "      <td>1.0</td>\n",
              "      <td>0.0</td>\n",
              "      <td>0.0</td>\n",
              "      <td>0.0</td>\n",
              "      <td>-1.0</td>\n",
              "      <td>0.0</td>\n",
              "    </tr>\n",
              "    <tr>\n",
              "      <th>36</th>\n",
              "      <td>325.20</td>\n",
              "      <td>325.80</td>\n",
              "      <td>0.0</td>\n",
              "      <td>1.0</td>\n",
              "      <td>1.0</td>\n",
              "      <td>0.0</td>\n",
              "      <td>0.0</td>\n",
              "      <td>0.0</td>\n",
              "      <td>-1.0</td>\n",
              "      <td>0.0</td>\n",
              "    </tr>\n",
              "    <tr>\n",
              "      <th>37</th>\n",
              "      <td>325.80</td>\n",
              "      <td>324.35</td>\n",
              "      <td>0.0</td>\n",
              "      <td>1.0</td>\n",
              "      <td>1.0</td>\n",
              "      <td>1.0</td>\n",
              "      <td>0.0</td>\n",
              "      <td>-1.0</td>\n",
              "      <td>1.0</td>\n",
              "      <td>0.0</td>\n",
              "    </tr>\n",
              "    <tr>\n",
              "      <th>38</th>\n",
              "      <td>324.35</td>\n",
              "      <td>324.25</td>\n",
              "      <td>0.0</td>\n",
              "      <td>0.0</td>\n",
              "      <td>1.0</td>\n",
              "      <td>0.0</td>\n",
              "      <td>0.0</td>\n",
              "      <td>0.0</td>\n",
              "      <td>1.0</td>\n",
              "      <td>0.0</td>\n",
              "    </tr>\n",
              "    <tr>\n",
              "      <th>...</th>\n",
              "      <td>...</td>\n",
              "      <td>...</td>\n",
              "      <td>...</td>\n",
              "      <td>...</td>\n",
              "      <td>...</td>\n",
              "      <td>...</td>\n",
              "      <td>...</td>\n",
              "      <td>...</td>\n",
              "      <td>...</td>\n",
              "      <td>...</td>\n",
              "    </tr>\n",
              "    <tr>\n",
              "      <th>3168</th>\n",
              "      <td>247.85</td>\n",
              "      <td>248.15</td>\n",
              "      <td>0.0</td>\n",
              "      <td>0.0</td>\n",
              "      <td>1.0</td>\n",
              "      <td>1.0</td>\n",
              "      <td>0.0</td>\n",
              "      <td>0.0</td>\n",
              "      <td>-1.0</td>\n",
              "      <td>1.0</td>\n",
              "    </tr>\n",
              "    <tr>\n",
              "      <th>3169</th>\n",
              "      <td>248.15</td>\n",
              "      <td>247.35</td>\n",
              "      <td>0.0</td>\n",
              "      <td>0.0</td>\n",
              "      <td>1.0</td>\n",
              "      <td>1.0</td>\n",
              "      <td>0.0</td>\n",
              "      <td>0.0</td>\n",
              "      <td>-1.0</td>\n",
              "      <td>1.0</td>\n",
              "    </tr>\n",
              "    <tr>\n",
              "      <th>3170</th>\n",
              "      <td>247.35</td>\n",
              "      <td>246.80</td>\n",
              "      <td>0.0</td>\n",
              "      <td>-1.0</td>\n",
              "      <td>1.0</td>\n",
              "      <td>0.0</td>\n",
              "      <td>0.0</td>\n",
              "      <td>0.0</td>\n",
              "      <td>-1.0</td>\n",
              "      <td>1.0</td>\n",
              "    </tr>\n",
              "    <tr>\n",
              "      <th>3171</th>\n",
              "      <td>246.80</td>\n",
              "      <td>245.80</td>\n",
              "      <td>0.0</td>\n",
              "      <td>-1.0</td>\n",
              "      <td>1.0</td>\n",
              "      <td>0.0</td>\n",
              "      <td>0.0</td>\n",
              "      <td>0.0</td>\n",
              "      <td>-1.0</td>\n",
              "      <td>1.0</td>\n",
              "    </tr>\n",
              "    <tr>\n",
              "      <th>3172</th>\n",
              "      <td>245.80</td>\n",
              "      <td>246.05</td>\n",
              "      <td>0.0</td>\n",
              "      <td>-1.0</td>\n",
              "      <td>1.0</td>\n",
              "      <td>0.0</td>\n",
              "      <td>0.0</td>\n",
              "      <td>1.0</td>\n",
              "      <td>-1.0</td>\n",
              "      <td>1.0</td>\n",
              "    </tr>\n",
              "  </tbody>\n",
              "</table>\n",
              "<p>3139 rows × 10 columns</p>\n",
              "</div>"
            ],
            "text/plain": [
              "       Close      NM  RSI  ADX  MACD  MHIST   SO  CCI  SAR   BB\n",
              "34    325.35  325.10  0.0  1.0   1.0    1.0  0.0  0.0 -1.0  0.0\n",
              "35    325.10  325.20  0.0  1.0   1.0    0.0  0.0  0.0 -1.0  0.0\n",
              "36    325.20  325.80  0.0  1.0   1.0    0.0  0.0  0.0 -1.0  0.0\n",
              "37    325.80  324.35  0.0  1.0   1.0    1.0  0.0 -1.0  1.0  0.0\n",
              "38    324.35  324.25  0.0  0.0   1.0    0.0  0.0  0.0  1.0  0.0\n",
              "...      ...     ...  ...  ...   ...    ...  ...  ...  ...  ...\n",
              "3168  247.85  248.15  0.0  0.0   1.0    1.0  0.0  0.0 -1.0  1.0\n",
              "3169  248.15  247.35  0.0  0.0   1.0    1.0  0.0  0.0 -1.0  1.0\n",
              "3170  247.35  246.80  0.0 -1.0   1.0    0.0  0.0  0.0 -1.0  1.0\n",
              "3171  246.80  245.80  0.0 -1.0   1.0    0.0  0.0  0.0 -1.0  1.0\n",
              "3172  245.80  246.05  0.0 -1.0   1.0    0.0  0.0  1.0 -1.0  1.0\n",
              "\n",
              "[3139 rows x 10 columns]"
            ]
          },
          "metadata": {
            "tags": []
          },
          "execution_count": 19
        }
      ]
    },
    {
      "cell_type": "markdown",
      "metadata": {
        "id": "JRcgSfpqyyh7",
        "colab_type": "text"
      },
      "source": [
        "### Getting Training Data"
      ]
    },
    {
      "cell_type": "code",
      "metadata": {
        "id": "GHlUghaFueJp",
        "colab_type": "code",
        "colab": {
          "base_uri": "https://localhost:8080/",
          "height": 34
        },
        "outputId": "042eabc2-1c12-452e-b703-46d41acbb88b"
      },
      "source": [
        "training_size = math.ceil(0.66 * df_final.shape[0])\n",
        "training_size"
      ],
      "execution_count": null,
      "outputs": [
        {
          "output_type": "execute_result",
          "data": {
            "text/plain": [
              "2072"
            ]
          },
          "metadata": {
            "tags": []
          },
          "execution_count": 20
        }
      ]
    },
    {
      "cell_type": "code",
      "metadata": {
        "id": "wZlC_HDNugjn",
        "colab_type": "code",
        "colab": {
          "base_uri": "https://localhost:8080/",
          "height": 34
        },
        "outputId": "9ef31cec-0387-4f49-ab7c-0068e5b7e787"
      },
      "source": [
        "test_size = df_final.shape[0] - training_size\n",
        "test_size"
      ],
      "execution_count": null,
      "outputs": [
        {
          "output_type": "execute_result",
          "data": {
            "text/plain": [
              "1067"
            ]
          },
          "metadata": {
            "tags": []
          },
          "execution_count": 21
        }
      ]
    },
    {
      "cell_type": "code",
      "metadata": {
        "id": "2uvLRyrTuiW4",
        "colab_type": "code",
        "colab": {
          "base_uri": "https://localhost:8080/",
          "height": 402
        },
        "outputId": "d1bf12e7-a792-4230-bf4c-533d0b682e48"
      },
      "source": [
        "train_data = df_final[:training_size]\n",
        "train_data"
      ],
      "execution_count": null,
      "outputs": [
        {
          "output_type": "execute_result",
          "data": {
            "text/html": [
              "<div>\n",
              "<style scoped>\n",
              "    .dataframe tbody tr th:only-of-type {\n",
              "        vertical-align: middle;\n",
              "    }\n",
              "\n",
              "    .dataframe tbody tr th {\n",
              "        vertical-align: top;\n",
              "    }\n",
              "\n",
              "    .dataframe thead th {\n",
              "        text-align: right;\n",
              "    }\n",
              "</style>\n",
              "<table border=\"1\" class=\"dataframe\">\n",
              "  <thead>\n",
              "    <tr style=\"text-align: right;\">\n",
              "      <th></th>\n",
              "      <th>Close</th>\n",
              "      <th>NM</th>\n",
              "      <th>RSI</th>\n",
              "      <th>ADX</th>\n",
              "      <th>MACD</th>\n",
              "      <th>MHIST</th>\n",
              "      <th>SO</th>\n",
              "      <th>CCI</th>\n",
              "      <th>SAR</th>\n",
              "      <th>BB</th>\n",
              "    </tr>\n",
              "  </thead>\n",
              "  <tbody>\n",
              "    <tr>\n",
              "      <th>34</th>\n",
              "      <td>325.35</td>\n",
              "      <td>325.10</td>\n",
              "      <td>0.0</td>\n",
              "      <td>1.0</td>\n",
              "      <td>1.0</td>\n",
              "      <td>1.0</td>\n",
              "      <td>0.0</td>\n",
              "      <td>0.0</td>\n",
              "      <td>-1.0</td>\n",
              "      <td>0.0</td>\n",
              "    </tr>\n",
              "    <tr>\n",
              "      <th>35</th>\n",
              "      <td>325.10</td>\n",
              "      <td>325.20</td>\n",
              "      <td>0.0</td>\n",
              "      <td>1.0</td>\n",
              "      <td>1.0</td>\n",
              "      <td>0.0</td>\n",
              "      <td>0.0</td>\n",
              "      <td>0.0</td>\n",
              "      <td>-1.0</td>\n",
              "      <td>0.0</td>\n",
              "    </tr>\n",
              "    <tr>\n",
              "      <th>36</th>\n",
              "      <td>325.20</td>\n",
              "      <td>325.80</td>\n",
              "      <td>0.0</td>\n",
              "      <td>1.0</td>\n",
              "      <td>1.0</td>\n",
              "      <td>0.0</td>\n",
              "      <td>0.0</td>\n",
              "      <td>0.0</td>\n",
              "      <td>-1.0</td>\n",
              "      <td>0.0</td>\n",
              "    </tr>\n",
              "    <tr>\n",
              "      <th>37</th>\n",
              "      <td>325.80</td>\n",
              "      <td>324.35</td>\n",
              "      <td>0.0</td>\n",
              "      <td>1.0</td>\n",
              "      <td>1.0</td>\n",
              "      <td>1.0</td>\n",
              "      <td>0.0</td>\n",
              "      <td>-1.0</td>\n",
              "      <td>1.0</td>\n",
              "      <td>0.0</td>\n",
              "    </tr>\n",
              "    <tr>\n",
              "      <th>38</th>\n",
              "      <td>324.35</td>\n",
              "      <td>324.25</td>\n",
              "      <td>0.0</td>\n",
              "      <td>0.0</td>\n",
              "      <td>1.0</td>\n",
              "      <td>0.0</td>\n",
              "      <td>0.0</td>\n",
              "      <td>0.0</td>\n",
              "      <td>1.0</td>\n",
              "      <td>0.0</td>\n",
              "    </tr>\n",
              "    <tr>\n",
              "      <th>...</th>\n",
              "      <td>...</td>\n",
              "      <td>...</td>\n",
              "      <td>...</td>\n",
              "      <td>...</td>\n",
              "      <td>...</td>\n",
              "      <td>...</td>\n",
              "      <td>...</td>\n",
              "      <td>...</td>\n",
              "      <td>...</td>\n",
              "      <td>...</td>\n",
              "    </tr>\n",
              "    <tr>\n",
              "      <th>2101</th>\n",
              "      <td>250.70</td>\n",
              "      <td>250.95</td>\n",
              "      <td>0.0</td>\n",
              "      <td>-1.0</td>\n",
              "      <td>1.0</td>\n",
              "      <td>1.0</td>\n",
              "      <td>0.0</td>\n",
              "      <td>-1.0</td>\n",
              "      <td>1.0</td>\n",
              "      <td>0.0</td>\n",
              "    </tr>\n",
              "    <tr>\n",
              "      <th>2102</th>\n",
              "      <td>250.95</td>\n",
              "      <td>251.35</td>\n",
              "      <td>0.0</td>\n",
              "      <td>-1.0</td>\n",
              "      <td>1.0</td>\n",
              "      <td>1.0</td>\n",
              "      <td>0.0</td>\n",
              "      <td>-1.0</td>\n",
              "      <td>1.0</td>\n",
              "      <td>0.0</td>\n",
              "    </tr>\n",
              "    <tr>\n",
              "      <th>2103</th>\n",
              "      <td>251.35</td>\n",
              "      <td>250.45</td>\n",
              "      <td>0.0</td>\n",
              "      <td>-1.0</td>\n",
              "      <td>1.0</td>\n",
              "      <td>1.0</td>\n",
              "      <td>0.0</td>\n",
              "      <td>-1.0</td>\n",
              "      <td>1.0</td>\n",
              "      <td>0.0</td>\n",
              "    </tr>\n",
              "    <tr>\n",
              "      <th>2104</th>\n",
              "      <td>250.45</td>\n",
              "      <td>249.90</td>\n",
              "      <td>0.0</td>\n",
              "      <td>-1.0</td>\n",
              "      <td>1.0</td>\n",
              "      <td>0.0</td>\n",
              "      <td>0.0</td>\n",
              "      <td>0.0</td>\n",
              "      <td>1.0</td>\n",
              "      <td>0.0</td>\n",
              "    </tr>\n",
              "    <tr>\n",
              "      <th>2105</th>\n",
              "      <td>249.90</td>\n",
              "      <td>251.60</td>\n",
              "      <td>0.0</td>\n",
              "      <td>-1.0</td>\n",
              "      <td>1.0</td>\n",
              "      <td>0.0</td>\n",
              "      <td>0.0</td>\n",
              "      <td>0.0</td>\n",
              "      <td>1.0</td>\n",
              "      <td>0.0</td>\n",
              "    </tr>\n",
              "  </tbody>\n",
              "</table>\n",
              "<p>2072 rows × 10 columns</p>\n",
              "</div>"
            ],
            "text/plain": [
              "       Close      NM  RSI  ADX  MACD  MHIST   SO  CCI  SAR   BB\n",
              "34    325.35  325.10  0.0  1.0   1.0    1.0  0.0  0.0 -1.0  0.0\n",
              "35    325.10  325.20  0.0  1.0   1.0    0.0  0.0  0.0 -1.0  0.0\n",
              "36    325.20  325.80  0.0  1.0   1.0    0.0  0.0  0.0 -1.0  0.0\n",
              "37    325.80  324.35  0.0  1.0   1.0    1.0  0.0 -1.0  1.0  0.0\n",
              "38    324.35  324.25  0.0  0.0   1.0    0.0  0.0  0.0  1.0  0.0\n",
              "...      ...     ...  ...  ...   ...    ...  ...  ...  ...  ...\n",
              "2101  250.70  250.95  0.0 -1.0   1.0    1.0  0.0 -1.0  1.0  0.0\n",
              "2102  250.95  251.35  0.0 -1.0   1.0    1.0  0.0 -1.0  1.0  0.0\n",
              "2103  251.35  250.45  0.0 -1.0   1.0    1.0  0.0 -1.0  1.0  0.0\n",
              "2104  250.45  249.90  0.0 -1.0   1.0    0.0  0.0  0.0  1.0  0.0\n",
              "2105  249.90  251.60  0.0 -1.0   1.0    0.0  0.0  0.0  1.0  0.0\n",
              "\n",
              "[2072 rows x 10 columns]"
            ]
          },
          "metadata": {
            "tags": []
          },
          "execution_count": 22
        }
      ]
    },
    {
      "cell_type": "code",
      "metadata": {
        "id": "bXgg-TTkukb7",
        "colab_type": "code",
        "colab": {
          "base_uri": "https://localhost:8080/",
          "height": 34
        },
        "outputId": "8c7ae899-182f-4af4-9789-b5b586244c94"
      },
      "source": [
        "train_data.shape"
      ],
      "execution_count": null,
      "outputs": [
        {
          "output_type": "execute_result",
          "data": {
            "text/plain": [
              "(2072, 10)"
            ]
          },
          "metadata": {
            "tags": []
          },
          "execution_count": 23
        }
      ]
    },
    {
      "cell_type": "code",
      "metadata": {
        "id": "-Oy1XdX_uncB",
        "colab_type": "code",
        "colab": {
          "base_uri": "https://localhost:8080/",
          "height": 34
        },
        "outputId": "4357e72c-870d-4a4f-db5a-adc8cee14e70"
      },
      "source": [
        "X_train = train_data[['Close', 'MACD', 'MHIST', 'ADX', 'SAR', 'RSI', 'SO', 'CCI', 'BB']]\n",
        "y_train = train_data[['NM']]\n",
        "\n",
        "X_train.shape, y_train.shape"
      ],
      "execution_count": null,
      "outputs": [
        {
          "output_type": "execute_result",
          "data": {
            "text/plain": [
              "((2072, 9), (2072, 1))"
            ]
          },
          "metadata": {
            "tags": []
          },
          "execution_count": 24
        }
      ]
    },
    {
      "cell_type": "code",
      "metadata": {
        "id": "5ErZ7Pu1upev",
        "colab_type": "code",
        "colab": {
          "base_uri": "https://localhost:8080/",
          "height": 34
        },
        "outputId": "dfe20961-080b-4dbd-856f-aaee02dbfc47"
      },
      "source": [
        "scalerX = MinMaxScaler()\n",
        "scalerY = MinMaxScaler()\n",
        "\n",
        "X_train = scalerX.fit_transform(X_train)\n",
        "y_train = scalerY.fit_transform(y_train)\n",
        "\n",
        "X_train, y_train = np.array(X_train), np.array(y_train)\n",
        "X_trainLSTM, y_trainLSTM = np.reshape(X_train, (X_train.shape[0], X_train.shape[1], 1)), np.array(y_train)\n",
        "X_trainLSTM.shape, y_trainLSTM.shape"
      ],
      "execution_count": null,
      "outputs": [
        {
          "output_type": "execute_result",
          "data": {
            "text/plain": [
              "((2072, 9, 1), (2072, 1))"
            ]
          },
          "metadata": {
            "tags": []
          },
          "execution_count": 25
        }
      ]
    },
    {
      "cell_type": "code",
      "metadata": {
        "id": "wAjifWyBurf8",
        "colab_type": "code",
        "colab": {
          "base_uri": "https://localhost:8080/",
          "height": 34
        },
        "outputId": "6b28ea63-9554-4a1a-afdf-9ffdc07a121d"
      },
      "source": [
        "X_train.shape, y_train.shape"
      ],
      "execution_count": null,
      "outputs": [
        {
          "output_type": "execute_result",
          "data": {
            "text/plain": [
              "((2072, 9), (2072, 1))"
            ]
          },
          "metadata": {
            "tags": []
          },
          "execution_count": 26
        }
      ]
    },
    {
      "cell_type": "markdown",
      "metadata": {
        "id": "u-pICsHtyu8y",
        "colab_type": "text"
      },
      "source": [
        "### Building Models"
      ]
    },
    {
      "cell_type": "code",
      "metadata": {
        "id": "meT-zBjQuumy",
        "colab_type": "code",
        "colab": {}
      },
      "source": [
        "model = Sequential()\n",
        "\n",
        "model.add(LSTM(units=40, activation='relu', return_sequences=True, input_shape=(X_trainLSTM.shape[1], 1)))\n",
        "model.add(Dropout(rate=0.1))\n",
        "\n",
        "model.add(LSTM(units=60, activation='relu', return_sequences=True))\n",
        "model.add(Dropout(rate=0.1))\n",
        "\n",
        "model.add(LSTM(units=120, activation='relu'))\n",
        "model.add(Dropout(rate=0.2))\n",
        "\n",
        "model.add(Dense(1))"
      ],
      "execution_count": null,
      "outputs": []
    },
    {
      "cell_type": "code",
      "metadata": {
        "id": "eQaAN38ovA8w",
        "colab_type": "code",
        "colab": {
          "base_uri": "https://localhost:8080/",
          "height": 386
        },
        "outputId": "769a8d46-a274-47e8-ff43-aaebe6a0bb84"
      },
      "source": [
        "model.summary()"
      ],
      "execution_count": null,
      "outputs": [
        {
          "output_type": "stream",
          "text": [
            "Model: \"sequential_1\"\n",
            "_________________________________________________________________\n",
            "Layer (type)                 Output Shape              Param #   \n",
            "=================================================================\n",
            "lstm_1 (LSTM)                (None, 9, 40)             6720      \n",
            "_________________________________________________________________\n",
            "dropout_1 (Dropout)          (None, 9, 40)             0         \n",
            "_________________________________________________________________\n",
            "lstm_2 (LSTM)                (None, 9, 60)             24240     \n",
            "_________________________________________________________________\n",
            "dropout_2 (Dropout)          (None, 9, 60)             0         \n",
            "_________________________________________________________________\n",
            "lstm_3 (LSTM)                (None, 120)               86880     \n",
            "_________________________________________________________________\n",
            "dropout_3 (Dropout)          (None, 120)               0         \n",
            "_________________________________________________________________\n",
            "dense_1 (Dense)              (None, 1)                 121       \n",
            "=================================================================\n",
            "Total params: 117,961\n",
            "Trainable params: 117,961\n",
            "Non-trainable params: 0\n",
            "_________________________________________________________________\n"
          ],
          "name": "stdout"
        }
      ]
    },
    {
      "cell_type": "code",
      "metadata": {
        "id": "sN9_MeT9vDw4",
        "colab_type": "code",
        "colab": {}
      },
      "source": [
        "model.compile(optimizer='adam', loss='mean_squared_error')"
      ],
      "execution_count": null,
      "outputs": []
    },
    {
      "cell_type": "code",
      "metadata": {
        "id": "rgESZ9NxvFNf",
        "colab_type": "code",
        "colab": {
          "base_uri": "https://localhost:8080/",
          "height": 1000
        },
        "outputId": "4a6a0dcc-3095-4ed6-e43b-ad61f120d597"
      },
      "source": [
        "model.fit(X_trainLSTM, y_trainLSTM, batch_size=128, epochs=30)"
      ],
      "execution_count": null,
      "outputs": [
        {
          "output_type": "stream",
          "text": [
            "Epoch 1/30\n",
            "2072/2072 [==============================] - 2s 1ms/step - loss: 0.1459\n",
            "Epoch 2/30\n",
            "2072/2072 [==============================] - 1s 487us/step - loss: 0.0838\n",
            "Epoch 3/30\n",
            "2072/2072 [==============================] - 1s 477us/step - loss: 0.0785\n",
            "Epoch 4/30\n",
            "2072/2072 [==============================] - 1s 476us/step - loss: 0.0763\n",
            "Epoch 5/30\n",
            "2072/2072 [==============================] - 1s 484us/step - loss: 0.0720\n",
            "Epoch 6/30\n",
            "2072/2072 [==============================] - 1s 489us/step - loss: 0.0647\n",
            "Epoch 7/30\n",
            "2072/2072 [==============================] - 1s 487us/step - loss: 0.0530\n",
            "Epoch 8/30\n",
            "2072/2072 [==============================] - 1s 503us/step - loss: 0.0410\n",
            "Epoch 9/30\n",
            "2072/2072 [==============================] - 1s 472us/step - loss: 0.0293\n",
            "Epoch 10/30\n",
            "2072/2072 [==============================] - 1s 481us/step - loss: 0.0211\n",
            "Epoch 11/30\n",
            "2072/2072 [==============================] - 1s 490us/step - loss: 0.0148\n",
            "Epoch 12/30\n",
            "2072/2072 [==============================] - 1s 474us/step - loss: 0.0112\n",
            "Epoch 13/30\n",
            "2072/2072 [==============================] - 1s 493us/step - loss: 0.0098\n",
            "Epoch 14/30\n",
            "2072/2072 [==============================] - 1s 480us/step - loss: 0.0063\n",
            "Epoch 15/30\n",
            "2072/2072 [==============================] - 1s 481us/step - loss: 0.0047\n",
            "Epoch 16/30\n",
            "2072/2072 [==============================] - 1s 476us/step - loss: 0.0046\n",
            "Epoch 17/30\n",
            "2072/2072 [==============================] - 1s 485us/step - loss: 0.0044\n",
            "Epoch 18/30\n",
            "2072/2072 [==============================] - 1s 477us/step - loss: 0.0042\n",
            "Epoch 19/30\n",
            "2072/2072 [==============================] - 1s 471us/step - loss: 0.0036\n",
            "Epoch 20/30\n",
            "2072/2072 [==============================] - 1s 477us/step - loss: 0.0036\n",
            "Epoch 21/30\n",
            "2072/2072 [==============================] - 1s 479us/step - loss: 0.0035\n",
            "Epoch 22/30\n",
            "2072/2072 [==============================] - 1s 477us/step - loss: 0.0038\n",
            "Epoch 23/30\n",
            "2072/2072 [==============================] - 1s 470us/step - loss: 0.0039\n",
            "Epoch 24/30\n",
            "2072/2072 [==============================] - 1s 478us/step - loss: 0.0034\n",
            "Epoch 25/30\n",
            "2072/2072 [==============================] - 1s 466us/step - loss: 0.0032\n",
            "Epoch 26/30\n",
            "2072/2072 [==============================] - 1s 476us/step - loss: 0.0030\n",
            "Epoch 27/30\n",
            "2072/2072 [==============================] - 1s 472us/step - loss: 0.0029\n",
            "Epoch 28/30\n",
            "2072/2072 [==============================] - 1s 485us/step - loss: 0.0030\n",
            "Epoch 29/30\n",
            "2072/2072 [==============================] - 1s 488us/step - loss: 0.0028\n",
            "Epoch 30/30\n",
            "2072/2072 [==============================] - 1s 476us/step - loss: 0.0030\n"
          ],
          "name": "stdout"
        },
        {
          "output_type": "execute_result",
          "data": {
            "text/plain": [
              "<keras.callbacks.callbacks.History at 0x7fcf29c1c860>"
            ]
          },
          "metadata": {
            "tags": []
          },
          "execution_count": 30
        }
      ]
    },
    {
      "cell_type": "code",
      "metadata": {
        "id": "Ex_Z_xyIviOK",
        "colab_type": "code",
        "colab": {
          "base_uri": "https://localhost:8080/",
          "height": 168
        },
        "outputId": "96cadbfd-c714-4e3f-e154-89f5907b440f"
      },
      "source": [
        "regr_rbf = SVR(kernel='rbf', gamma=0.1)\n",
        "regr_poly = SVR(kernel='poly', degree=2)\n",
        "regr_lin = SVR(kernel='linear')\n",
        "regr_rfr = RandomForestRegressor(n_estimators=150, criterion='mse', oob_score=True)\n",
        "regr_gbr = GradientBoostingRegressor(loss='ls', n_estimators=150, criterion='friedman_mse', )\n",
        "\n",
        "regr_rbf.fit(X_train, y_train)\n",
        "regr_poly.fit(X_train, y_train)\n",
        "regr_lin.fit(X_train, y_train)\n",
        "regr_rfr.fit(X_train, y_train)\n",
        "regr_gbr.fit(X_train, y_train)"
      ],
      "execution_count": null,
      "outputs": [
        {
          "output_type": "execute_result",
          "data": {
            "text/plain": [
              "GradientBoostingRegressor(alpha=0.9, ccp_alpha=0.0, criterion='friedman_mse',\n",
              "                          init=None, learning_rate=0.1, loss='ls', max_depth=3,\n",
              "                          max_features=None, max_leaf_nodes=None,\n",
              "                          min_impurity_decrease=0.0, min_impurity_split=None,\n",
              "                          min_samples_leaf=1, min_samples_split=2,\n",
              "                          min_weight_fraction_leaf=0.0, n_estimators=150,\n",
              "                          n_iter_no_change=None, presort='deprecated',\n",
              "                          random_state=None, subsample=1.0, tol=0.0001,\n",
              "                          validation_fraction=0.1, verbose=0, warm_start=False)"
            ]
          },
          "metadata": {
            "tags": []
          },
          "execution_count": 31
        }
      ]
    },
    {
      "cell_type": "markdown",
      "metadata": {
        "id": "2C1Nb3Tyvsuh",
        "colab_type": "text"
      },
      "source": [
        "### Testing"
      ]
    },
    {
      "cell_type": "code",
      "metadata": {
        "id": "GGQTkcu7vr36",
        "colab_type": "code",
        "colab": {
          "base_uri": "https://localhost:8080/",
          "height": 34
        },
        "outputId": "f1ea8e92-601f-4b42-ec40-500063eeb1d5"
      },
      "source": [
        "test_data = df_final[training_size - 1:]\n",
        "\n",
        "X_test = test_data[['Close', 'MACD', 'MHIST', 'ADX', 'SAR', 'RSI', 'SO', 'CCI', 'BB']]\n",
        "y_test = test_data[['NM']]\n",
        "\n",
        "X_test.shape, y_test.shape"
      ],
      "execution_count": null,
      "outputs": [
        {
          "output_type": "execute_result",
          "data": {
            "text/plain": [
              "((1068, 9), (1068, 1))"
            ]
          },
          "metadata": {
            "tags": []
          },
          "execution_count": 32
        }
      ]
    },
    {
      "cell_type": "code",
      "metadata": {
        "id": "QapoAhUuvwgX",
        "colab_type": "code",
        "colab": {
          "base_uri": "https://localhost:8080/",
          "height": 34
        },
        "outputId": "c50dbffa-95fb-45c5-b42b-aae94c54d289"
      },
      "source": [
        "X_test = scalerX.fit_transform(X_test)\n",
        "y_test = scalerY.fit_transform(y_test)\n",
        "\n",
        "X_test, y_test = np.array(X_test), np.array(y_test)\n",
        "X_testLSTM, y_testLSTM = np.reshape(X_test, (X_test.shape[0], X_test.shape[1], 1)), np.array(y_test)\n",
        "X_testLSTM.shape, y_testLSTM.shape"
      ],
      "execution_count": null,
      "outputs": [
        {
          "output_type": "execute_result",
          "data": {
            "text/plain": [
              "((1068, 9, 1), (1068, 1))"
            ]
          },
          "metadata": {
            "tags": []
          },
          "execution_count": 33
        }
      ]
    },
    {
      "cell_type": "code",
      "metadata": {
        "id": "T75AyBIAv9p-",
        "colab_type": "code",
        "colab": {}
      },
      "source": [
        "y_hatLSTM = model.predict(X_testLSTM)"
      ],
      "execution_count": null,
      "outputs": []
    },
    {
      "cell_type": "code",
      "metadata": {
        "id": "9b4z2Ry9wM3l",
        "colab_type": "code",
        "colab": {}
      },
      "source": [
        "y_hat_rbf = regr_rbf.predict(X_test)\n",
        "y_hat_poly = regr_poly.predict(X_test)\n",
        "y_hat_lin = regr_lin.predict(X_test)\n",
        "y_hat_rfr = regr_rfr.predict(X_test)\n",
        "y_hat_gbr = regr_gbr.predict(X_test)"
      ],
      "execution_count": null,
      "outputs": []
    },
    {
      "cell_type": "code",
      "metadata": {
        "id": "RzeQ4jymwAWD",
        "colab_type": "code",
        "colab": {}
      },
      "source": [
        "y_hatLSTM = scalerY.inverse_transform(y_hatLSTM)\n",
        "y_testLSTM = scalerY.inverse_transform(y_testLSTM)"
      ],
      "execution_count": null,
      "outputs": []
    },
    {
      "cell_type": "code",
      "metadata": {
        "id": "NFTtP2GUwJ9r",
        "colab_type": "code",
        "colab": {}
      },
      "source": [
        "y_hat_poly = np.reshape(y_hat_poly, (y_hat_poly.shape[0], 1))\n",
        "y_hat_rbf = np.reshape(y_hat_rbf, (y_hat_rbf.shape[0], 1))\n",
        "y_hat_lin = np.reshape(y_hat_lin, (y_hat_lin.shape[0], 1))\n",
        "y_hat_rfr = np.reshape(y_hat_rfr, (y_hat_rfr.shape[0], 1))\n",
        "y_hat_gbr = np.reshape(y_hat_gbr, (y_hat_gbr.shape[0], 1))"
      ],
      "execution_count": null,
      "outputs": []
    },
    {
      "cell_type": "code",
      "metadata": {
        "id": "auE8S5bPwQ7B",
        "colab_type": "code",
        "colab": {}
      },
      "source": [
        "y_hat_poly = scalerY.inverse_transform(y_hat_poly)\n",
        "y_hat_rbf = scalerY.inverse_transform(y_hat_rbf)\n",
        "y_hat_lin = scalerY.inverse_transform(y_hat_lin)\n",
        "y_hat_rfr = scalerY.inverse_transform(y_hat_rfr)\n",
        "y_hat_gbr = scalerY.inverse_transform(y_hat_gbr)\n",
        "y_test = scalerY.inverse_transform(y_test)"
      ],
      "execution_count": null,
      "outputs": []
    },
    {
      "cell_type": "markdown",
      "metadata": {
        "id": "K1IYdn8dxt6w",
        "colab_type": "text"
      },
      "source": [
        "### LSTM Model"
      ]
    },
    {
      "cell_type": "code",
      "metadata": {
        "id": "5Hqs6vZewIOb",
        "colab_type": "code",
        "colab": {
          "base_uri": "https://localhost:8080/",
          "height": 497
        },
        "outputId": "4846c867-4e4a-4a02-c45f-120d64191e5d"
      },
      "source": [
        "plt.figure(figsize=(12, 8))\n",
        "plt.plot(y_testLSTM, color='red', label='Real Prices')\n",
        "plt.plot(y_hatLSTM, color='blue', label='Predicted Prices(LSTM)')\n",
        "plt.xlabel('Time')\n",
        "plt.ylabel('Close Price')\n",
        "plt.legend()\n",
        "plt.show()"
      ],
      "execution_count": null,
      "outputs": [
        {
          "output_type": "display_data",
          "data": {
            "image/png": "[encoded data removed]",
            "text/plain": [
              "<Figure size 864x576 with 1 Axes>"
            ]
          },
          "metadata": {
            "tags": [],
            "needs_background": "light"
          }
        }
      ]
    },
    {
      "cell_type": "markdown",
      "metadata": {
        "id": "RrkkRs5cxwgL",
        "colab_type": "text"
      },
      "source": [
        "### SVR-RBF Model"
      ]
    },
    {
      "cell_type": "code",
      "metadata": {
        "id": "kDlrHUHQwSr6",
        "colab_type": "code",
        "colab": {
          "base_uri": "https://localhost:8080/",
          "height": 497
        },
        "outputId": "08974d2d-bacd-463e-d503-9dce2a88d1c3"
      },
      "source": [
        "plt.figure(figsize=(12, 8))\n",
        "plt.plot(y_test, color='red', label='Real Prices')\n",
        "plt.plot(y_hat_rbf, color='blue', label='Predicted Prices(RBF)')\n",
        "plt.xlabel('Time')\n",
        "plt.ylabel('Close Price')\n",
        "plt.legend()\n",
        "plt.show()"
      ],
      "execution_count": null,
      "outputs": [
        {
          "output_type": "display_data",
          "data": {
            "image/png": "[encoded data removed]",
            "text/plain": [
              "<Figure size 864x576 with 1 Axes>"
            ]
          },
          "metadata": {
            "tags": [],
            "needs_background": "light"
          }
        }
      ]
    },
    {
      "cell_type": "markdown",
      "metadata": {
        "id": "OHA-opEdxzqS",
        "colab_type": "text"
      },
      "source": [
        "### SVR-Poly Model"
      ]
    },
    {
      "cell_type": "code",
      "metadata": {
        "id": "xwJU2zbcwUfN",
        "colab_type": "code",
        "colab": {
          "base_uri": "https://localhost:8080/",
          "height": 497
        },
        "outputId": "446ecb0a-d1ca-4189-95a3-7a3b9722020d"
      },
      "source": [
        "plt.figure(figsize=(12, 8))\n",
        "plt.plot(y_test, color='red', label='Real Prices')\n",
        "plt.plot(y_hat_poly, color='blue', label='Predicted Prices(Polynomial)')\n",
        "plt.xlabel('Time')\n",
        "plt.ylabel('Close Price')\n",
        "plt.legend()\n",
        "plt.show()"
      ],
      "execution_count": null,
      "outputs": [
        {
          "output_type": "display_data",
          "data": {
            "image/png": "[encoded data removed]",
            "text/plain": [
              "<Figure size 864x576 with 1 Axes>"
            ]
          },
          "metadata": {
            "tags": [],
            "needs_background": "light"
          }
        }
      ]
    },
    {
      "cell_type": "markdown",
      "metadata": {
        "id": "AMlAkPGOx18X",
        "colab_type": "text"
      },
      "source": [
        "### SVR-Linear Model"
      ]
    },
    {
      "cell_type": "code",
      "metadata": {
        "id": "AxVR-xfHwXJP",
        "colab_type": "code",
        "colab": {
          "base_uri": "https://localhost:8080/",
          "height": 497
        },
        "outputId": "3cd13df9-6880-4074-9921-1c1dd3e6edb4"
      },
      "source": [
        "plt.figure(figsize=(12, 8))\n",
        "plt.plot(y_test, color='red', label='Real Prices')\n",
        "plt.plot(y_hat_lin, color='blue', label='Predicted Prices(Linear)')\n",
        "plt.xlabel('Time')\n",
        "plt.ylabel('Close Price')\n",
        "plt.legend()\n",
        "plt.show()"
      ],
      "execution_count": null,
      "outputs": [
        {
          "output_type": "display_data",
          "data": {
            "image/png": "[encoded data removed]",
            "text/plain": [
              "<Figure size 864x576 with 1 Axes>"
            ]
          },
          "metadata": {
            "tags": [],
            "needs_background": "light"
          }
        }
      ]
    },
    {
      "cell_type": "markdown",
      "metadata": {
        "id": "96TlB8gpx6jR",
        "colab_type": "text"
      },
      "source": [
        "### Random Forest Regressor Model"
      ]
    },
    {
      "cell_type": "code",
      "metadata": {
        "id": "M_LHa-JewZB4",
        "colab_type": "code",
        "colab": {
          "base_uri": "https://localhost:8080/",
          "height": 497
        },
        "outputId": "e065c7e5-2c07-47da-f5b3-c60efb0b201c"
      },
      "source": [
        "plt.figure(figsize=(12, 8))\n",
        "plt.plot(y_test, color='red', label='Real Prices')\n",
        "plt.plot(y_hat_rfr, color='blue', label='Predicted Prices(RandomForestRegressor)')\n",
        "plt.xlabel('Time')\n",
        "plt.ylabel('Close Price')\n",
        "plt.legend()\n",
        "plt.show()"
      ],
      "execution_count": null,
      "outputs": [
        {
          "output_type": "display_data",
          "data": {
            "image/png": "[encoded data removed]",
            "text/plain": [
              "<Figure size 864x576 with 1 Axes>"
            ]
          },
          "metadata": {
            "tags": [],
            "needs_background": "light"
          }
        }
      ]
    },
    {
      "cell_type": "markdown",
      "metadata": {
        "id": "kfUgbIMQHJsc",
        "colab_type": "text"
      },
      "source": [
        "### Gradient Boosting Regressor"
      ]
    },
    {
      "cell_type": "code",
      "metadata": {
        "id": "RRC420YoHJHd",
        "colab_type": "code",
        "colab": {
          "base_uri": "https://localhost:8080/",
          "height": 497
        },
        "outputId": "1b63d9b2-99b6-4b86-f802-683509685d3e"
      },
      "source": [
        "plt.figure(figsize=(12, 8))\n",
        "plt.plot(y_test, color='red', label='Real Prices')\n",
        "plt.plot(y_hat_gbr, color='blue', label='Predicted Prices(GradientBoostingRegressor)')\n",
        "plt.xlabel('Time')\n",
        "plt.ylabel('Close Price')\n",
        "plt.legend()\n",
        "plt.show()"
      ],
      "execution_count": null,
      "outputs": [
        {
          "output_type": "display_data",
          "data": {
            "image/png": "[encoded data removed]",
            "text/plain": [
              "<Figure size 864x576 with 1 Axes>"
            ]
          },
          "metadata": {
            "tags": [],
            "needs_background": "light"
          }
        }
      ]
    },
    {
      "cell_type": "markdown",
      "metadata": {
        "id": "zg0vYCLnw0NH",
        "colab_type": "text"
      },
      "source": [
        "### Directional Symmetry"
      ]
    },
    {
      "cell_type": "code",
      "metadata": {
        "id": "BHbBtJNwxQed",
        "colab_type": "code",
        "colab": {}
      },
      "source": [
        "def directional_asymmetry(y_hat, y_test):\n",
        "  next_real = pd.Series(np.reshape(y_test, (y_test.shape[0]))).shift(-1)\n",
        "  next_pred = pd.Series(np.reshape(y_hat, (y_hat.shape[0]))).shift(-1)\n",
        "  curr_real = pd.Series(np.reshape(y_test, (y_test.shape[0])))[:y_test.shape[0] - 1]\n",
        "  next_real.dropna(inplace=True)\n",
        "  next_pred.dropna(inplace=True)\n",
        "  direction_count = 0\n",
        "  for i in range(next_real.shape[0]): \n",
        "    if next_real[i] > curr_real[i] and next_pred[i] > curr_real[i]:\n",
        "      direction_count += 1\n",
        "    elif next_real[i] < curr_real[i] and next_pred[i] < curr_real[i]:\n",
        "      direction_count += 1\n",
        "    elif next_real[i] == curr_real[i] and next_pred[i] == curr_real[i]:\n",
        "      direction_count += 1\n",
        "  return 1 - (direction_count / next_real.shape[0])"
      ],
      "execution_count": null,
      "outputs": []
    },
    {
      "cell_type": "markdown",
      "metadata": {
        "id": "Jt0efBhcx-j2",
        "colab_type": "text"
      },
      "source": [
        "### Errors"
      ]
    },
    {
      "cell_type": "code",
      "metadata": {
        "id": "npwHkHqLwbQJ",
        "colab_type": "code",
        "colab": {}
      },
      "source": [
        "from sklearn.metrics import mean_squared_error, mean_absolute_error\n",
        "\n",
        "MSE_rbf = mean_squared_error(y_hat_rbf, y_test)\n",
        "MSE_poly = mean_squared_error(y_hat_poly, y_test)\n",
        "MSE_lin = mean_squared_error(y_hat_lin, y_test)\n",
        "MSE_rfr = mean_squared_error(y_hat_rfr, y_test)\n",
        "MSE_gbr = mean_squared_error(y_hat_gbr, y_test)\n",
        "MSE_LSTM = mean_squared_error(y_hatLSTM, y_testLSTM)\n",
        "\n",
        "MAE_rbf = mean_absolute_error(y_hat_rbf, y_test)\n",
        "MAE_poly = mean_absolute_error(y_hat_poly, y_test)\n",
        "MAE_lin = mean_absolute_error(y_hat_lin, y_test)\n",
        "MAE_rfr = mean_absolute_error(y_hat_rfr, y_test)\n",
        "MAE_gbr = mean_absolute_error(y_hat_gbr, y_test)\n",
        "MAE_LSTM = mean_absolute_error(y_hatLSTM, y_testLSTM)\n",
        "\n",
        "DA_LSTM = directional_asymmetry(y_hatLSTM, y_testLSTM)\n",
        "DA_lin = directional_asymmetry(y_hat_lin, y_test)\n",
        "DA_poly = directional_asymmetry(y_hat_poly, y_test)\n",
        "DA_rbf = directional_asymmetry(y_hat_rbf, y_test)\n",
        "DA_rfr = directional_asymmetry(y_hat_rfr, y_test)\n",
        "DA_gbr = directional_asymmetry(y_hat_gbr, y_test) \n",
        "\n",
        "mse = minmax_scale(np.transpose([MSE_LSTM, MSE_lin, MSE_poly, MSE_rbf, MSE_rfr, MSE_gbr]))\n",
        "mae = minmax_scale(np.transpose([MAE_LSTM, MAE_lin, MAE_poly, MAE_rbf, MAE_rfr, MAE_gbr]))\n",
        "da = [DA_LSTM, DA_lin, DA_poly, DA_rbf, DA_rfr, DA_gbr]"
      ],
      "execution_count": null,
      "outputs": []
    },
    {
      "cell_type": "code",
      "metadata": {
        "id": "IE3xT5V5JnE_",
        "colab_type": "code",
        "colab": {
          "base_uri": "https://localhost:8080/",
          "height": 134
        },
        "outputId": "0f034ac7-bdc3-4606-9453-5e823992ef9c"
      },
      "source": [
        "print('MEAN Absolute Errors:')\n",
        "print('LSTM : {:.4f}'.format(MAE_LSTM))\n",
        "print('SVR-Linear : {:.4f}'.format(MAE_lin))\n",
        "print('SVR-Poly : {:.4f}'.format(MAE_poly))\n",
        "print('SVR-Rbf : {:.4f}'.format(MAE_rbf))\n",
        "print('RFR : {:.4f}'.format(MAE_rfr))\n",
        "print('GBR : {:.4f}'.format(MAE_gbr))"
      ],
      "execution_count": null,
      "outputs": [
        {
          "output_type": "stream",
          "text": [
            "MEAN Absolute Errors:\n",
            "LSTM : 0.9738\n",
            "SVR-Linear : 1.0823\n",
            "SVR-Poly : 1.3944\n",
            "SVR-Rbf : 1.1476\n",
            "RFR : 0.7450\n",
            "GBR : 0.6429\n"
          ],
          "name": "stdout"
        }
      ]
    },
    {
      "cell_type": "code",
      "metadata": {
        "id": "Dsy6u1NHKDma",
        "colab_type": "code",
        "colab": {
          "base_uri": "https://localhost:8080/",
          "height": 134
        },
        "outputId": "e1934a6d-35c6-49ce-bf3e-5ed7462dcf0d"
      },
      "source": [
        "print('MEAN Squared Errors:')\n",
        "print('LSTM : {:.4f}'.format(MSE_LSTM))\n",
        "print('SVR-Linear : {:.4f}'.format(MSE_lin))\n",
        "print('SVR-Poly : {:.4f}'.format(MSE_poly))\n",
        "print('SVR-Rbf : {:.4f}'.format(MSE_rbf))\n",
        "print('RFR : {:.4f}'.format(MSE_rfr))\n",
        "print('GBR: {:.4f}'.format(MSE_gbr))"
      ],
      "execution_count": null,
      "outputs": [
        {
          "output_type": "stream",
          "text": [
            "MEAN Squared Errors:\n",
            "LSTM : 1.5847\n",
            "SVR-Linear : 1.8186\n",
            "SVR-Poly : 2.9061\n",
            "SVR-Rbf : 2.0442\n",
            "RFR : 1.5043\n",
            "GBR: 0.8336\n"
          ],
          "name": "stdout"
        }
      ]
    },
    {
      "cell_type": "code",
      "metadata": {
        "id": "atpmwblaKMJ3",
        "colab_type": "code",
        "colab": {
          "base_uri": "https://localhost:8080/",
          "height": 134
        },
        "outputId": "346ca92a-d2dc-4ba0-dcc7-25d319280096"
      },
      "source": [
        "print('Directional Symmetry:')\n",
        "print('LSTM : {:.4f}%'.format(100 - (DA_LSTM * 100)))\n",
        "print('SVR-Linear : {:.4f}%'.format(100 - (DA_lin * 100)))\n",
        "print('SVR-Poly : {:.4f}%'.format(100 - (DA_poly * 100)))\n",
        "print('SVR-Rbf : {:.4f}%'.format(100 - (DA_rbf * 100)))\n",
        "print('RFR : {:.4f}% '.format(100 - (DA_rfr * 100)))\n",
        "print('GBR: {:.4f}%'.format(100 - (DA_gbr * 100)))"
      ],
      "execution_count": null,
      "outputs": [
        {
          "output_type": "stream",
          "text": [
            "Directional Symmetry:\n",
            "LSTM : 45.8294%\n",
            "SVR-Linear : 50.6092%\n",
            "SVR-Poly : 51.8276%\n",
            "SVR-Rbf : 50.9841%\n",
            "RFR : 49.6720% \n",
            "GBR: 47.7038%\n"
          ],
          "name": "stdout"
        }
      ]
    },
    {
      "cell_type": "code",
      "metadata": {
        "id": "5Sva2QMPxUfo",
        "colab_type": "code",
        "colab": {}
      },
      "source": [
        ""
      ],
      "execution_count": null,
      "outputs": []
    }
  ]
}