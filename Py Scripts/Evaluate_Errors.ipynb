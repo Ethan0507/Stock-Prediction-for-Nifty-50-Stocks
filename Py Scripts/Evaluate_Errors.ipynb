{
  "nbformat": 4,
  "nbformat_minor": 0,
  "metadata": {
    "colab": {
      "name": "Evaluate-Errors.ipynb",
      "provenance": []
    },
    "kernelspec": {
      "name": "python3",
      "display_name": "Python 3"
    }
  },
  "cells": [
    {
      "cell_type": "code",
      "metadata": {
        "id": "Afnw2EihRQ3D",
        "colab_type": "code",
        "colab": {}
      },
      "source": [
        "import matplotlib.pyplot as plt\n",
        "import pandas as pd\n",
        "from sklearn.preprocessing import minmax_scale\n",
        "import numpy as np\n"
      ],
      "execution_count": null,
      "outputs": []
    },
    {
      "cell_type": "code",
      "metadata": {
        "id": "k9ujeoSZRh3F",
        "colab_type": "code",
        "colab": {
          "base_uri": "https://localhost:8080/",
          "height": 350
        },
        "outputId": "2028c001-1efe-400d-d9c0-463e16287bec"
      },
      "source": [
        "df = pd.read_csv('Errors.csv')\n",
        "df.head()"
      ],
      "execution_count": null,
      "outputs": [
        {
          "output_type": "execute_result",
          "data": {
            "text/html": [
              "<div>\n",
              "<style scoped>\n",
              "    .dataframe tbody tr th:only-of-type {\n",
              "        vertical-align: middle;\n",
              "    }\n",
              "\n",
              "    .dataframe tbody tr th {\n",
              "        vertical-align: top;\n",
              "    }\n",
              "\n",
              "    .dataframe thead th {\n",
              "        text-align: right;\n",
              "    }\n",
              "</style>\n",
              "<table border=\"1\" class=\"dataframe\">\n",
              "  <thead>\n",
              "    <tr style=\"text-align: right;\">\n",
              "      <th></th>\n",
              "      <th>Stock</th>\n",
              "      <th>LSTM (MAE)</th>\n",
              "      <th>SVR_Linear (MAE)</th>\n",
              "      <th>SVR_Polynomial (MAE)</th>\n",
              "      <th>SVR_Rbf (MAE)</th>\n",
              "      <th>Random Forest (MAE)</th>\n",
              "      <th>Gradient Boosting (MAE)</th>\n",
              "      <th>LSTM (MSE)</th>\n",
              "      <th>SVR_Linear (MSE)</th>\n",
              "      <th>SVR_Polynomial (MSE)</th>\n",
              "      <th>SVR_Rbf (MSE)</th>\n",
              "      <th>Random Forest (MSE)</th>\n",
              "      <th>Gradient Boosting (MSE)</th>\n",
              "      <th>LSTM (Dir. Symm.)</th>\n",
              "      <th>SVR_Linear (Dir. Symm.)</th>\n",
              "      <th>SVR_Polynomial (Dir. Symm.)</th>\n",
              "      <th>SVR_Rbf (Dir. Symm.)</th>\n",
              "      <th>Random Forest (Dir. Symm.)</th>\n",
              "      <th>Gradient Boosting (Dir. Symm.)</th>\n",
              "      <th>Model</th>\n",
              "    </tr>\n",
              "  </thead>\n",
              "  <tbody>\n",
              "    <tr>\n",
              "      <th>0</th>\n",
              "      <td>ADANIPORTS</td>\n",
              "      <td>1.000000</td>\n",
              "      <td>0.615690</td>\n",
              "      <td>0.766971</td>\n",
              "      <td>0.700997</td>\n",
              "      <td>0.066692</td>\n",
              "      <td>0.0</td>\n",
              "      <td>1.000000</td>\n",
              "      <td>0.515733</td>\n",
              "      <td>0.823682</td>\n",
              "      <td>0.573409</td>\n",
              "      <td>0.059911</td>\n",
              "      <td>0.0</td>\n",
              "      <td>47.379603</td>\n",
              "      <td>49.929178</td>\n",
              "      <td>50.991501</td>\n",
              "      <td>48.866856</td>\n",
              "      <td>49.787535</td>\n",
              "      <td>49.008499</td>\n",
              "      <td>Random Forest</td>\n",
              "    </tr>\n",
              "    <tr>\n",
              "      <th>1</th>\n",
              "      <td>ASIANPAINT</td>\n",
              "      <td>0.535519</td>\n",
              "      <td>0.342118</td>\n",
              "      <td>0.601873</td>\n",
              "      <td>1.000000</td>\n",
              "      <td>0.053329</td>\n",
              "      <td>0.0</td>\n",
              "      <td>0.493857</td>\n",
              "      <td>0.211116</td>\n",
              "      <td>0.565202</td>\n",
              "      <td>1.000000</td>\n",
              "      <td>0.017677</td>\n",
              "      <td>0.0</td>\n",
              "      <td>49.929178</td>\n",
              "      <td>49.575071</td>\n",
              "      <td>48.300283</td>\n",
              "      <td>50.141643</td>\n",
              "      <td>49.362606</td>\n",
              "      <td>49.787535</td>\n",
              "      <td>Gradient Boosting</td>\n",
              "    </tr>\n",
              "    <tr>\n",
              "      <th>2</th>\n",
              "      <td>AXISBANK</td>\n",
              "      <td>1.000000</td>\n",
              "      <td>0.771934</td>\n",
              "      <td>0.634666</td>\n",
              "      <td>0.999205</td>\n",
              "      <td>0.029641</td>\n",
              "      <td>0.0</td>\n",
              "      <td>0.911302</td>\n",
              "      <td>0.728924</td>\n",
              "      <td>0.622282</td>\n",
              "      <td>1.000000</td>\n",
              "      <td>0.016870</td>\n",
              "      <td>0.0</td>\n",
              "      <td>50.920680</td>\n",
              "      <td>51.062323</td>\n",
              "      <td>50.283286</td>\n",
              "      <td>51.062323</td>\n",
              "      <td>51.274788</td>\n",
              "      <td>52.124646</td>\n",
              "      <td>Gradient Boosting</td>\n",
              "    </tr>\n",
              "    <tr>\n",
              "      <th>3</th>\n",
              "      <td>BAJAJ-AUTO</td>\n",
              "      <td>0.338265</td>\n",
              "      <td>0.492170</td>\n",
              "      <td>0.749317</td>\n",
              "      <td>1.000000</td>\n",
              "      <td>0.012852</td>\n",
              "      <td>0.0</td>\n",
              "      <td>0.454711</td>\n",
              "      <td>0.340096</td>\n",
              "      <td>0.876672</td>\n",
              "      <td>1.000000</td>\n",
              "      <td>0.002979</td>\n",
              "      <td>0.0</td>\n",
              "      <td>50.637394</td>\n",
              "      <td>50.779037</td>\n",
              "      <td>50.212465</td>\n",
              "      <td>51.416431</td>\n",
              "      <td>51.133144</td>\n",
              "      <td>50.000000</td>\n",
              "      <td>Random Forest</td>\n",
              "    </tr>\n",
              "    <tr>\n",
              "      <th>4</th>\n",
              "      <td>BAJFINANCE</td>\n",
              "      <td>0.853491</td>\n",
              "      <td>0.751603</td>\n",
              "      <td>0.596072</td>\n",
              "      <td>1.000000</td>\n",
              "      <td>0.013231</td>\n",
              "      <td>0.0</td>\n",
              "      <td>0.927193</td>\n",
              "      <td>0.648115</td>\n",
              "      <td>0.598575</td>\n",
              "      <td>1.000000</td>\n",
              "      <td>0.006001</td>\n",
              "      <td>0.0</td>\n",
              "      <td>50.779037</td>\n",
              "      <td>51.133144</td>\n",
              "      <td>48.937677</td>\n",
              "      <td>51.416431</td>\n",
              "      <td>48.796034</td>\n",
              "      <td>48.300283</td>\n",
              "      <td>Random Forest</td>\n",
              "    </tr>\n",
              "  </tbody>\n",
              "</table>\n",
              "</div>"
            ],
            "text/plain": [
              "        Stock  LSTM (MAE)  ...  Gradient Boosting (Dir. Symm.)              Model\n",
              "0  ADANIPORTS    1.000000  ...                       49.008499      Random Forest\n",
              "1  ASIANPAINT    0.535519  ...                       49.787535  Gradient Boosting\n",
              "2    AXISBANK    1.000000  ...                       52.124646  Gradient Boosting\n",
              "3  BAJAJ-AUTO    0.338265  ...                       50.000000      Random Forest\n",
              "4  BAJFINANCE    0.853491  ...                       48.300283      Random Forest\n",
              "\n",
              "[5 rows x 20 columns]"
            ]
          },
          "metadata": {
            "tags": []
          },
          "execution_count": 2
        }
      ]
    },
    {
      "cell_type": "code",
      "metadata": {
        "id": "ru26PBMPh7SS",
        "colab_type": "code",
        "colab": {
          "base_uri": "https://localhost:8080/",
          "height": 196
        },
        "outputId": "76b24bf7-98c4-47f2-eb92-bb01cb05c7f1"
      },
      "source": [
        "df[['Stock', 'Model']].head()"
      ],
      "execution_count": null,
      "outputs": [
        {
          "output_type": "execute_result",
          "data": {
            "text/html": [
              "<div>\n",
              "<style scoped>\n",
              "    .dataframe tbody tr th:only-of-type {\n",
              "        vertical-align: middle;\n",
              "    }\n",
              "\n",
              "    .dataframe tbody tr th {\n",
              "        vertical-align: top;\n",
              "    }\n",
              "\n",
              "    .dataframe thead th {\n",
              "        text-align: right;\n",
              "    }\n",
              "</style>\n",
              "<table border=\"1\" class=\"dataframe\">\n",
              "  <thead>\n",
              "    <tr style=\"text-align: right;\">\n",
              "      <th></th>\n",
              "      <th>Stock</th>\n",
              "      <th>Model</th>\n",
              "    </tr>\n",
              "  </thead>\n",
              "  <tbody>\n",
              "    <tr>\n",
              "      <th>0</th>\n",
              "      <td>ADANIPORTS</td>\n",
              "      <td>Random Forest</td>\n",
              "    </tr>\n",
              "    <tr>\n",
              "      <th>1</th>\n",
              "      <td>ASIANPAINT</td>\n",
              "      <td>Gradient Boosting</td>\n",
              "    </tr>\n",
              "    <tr>\n",
              "      <th>2</th>\n",
              "      <td>AXISBANK</td>\n",
              "      <td>Gradient Boosting</td>\n",
              "    </tr>\n",
              "    <tr>\n",
              "      <th>3</th>\n",
              "      <td>BAJAJ-AUTO</td>\n",
              "      <td>Random Forest</td>\n",
              "    </tr>\n",
              "    <tr>\n",
              "      <th>4</th>\n",
              "      <td>BAJFINANCE</td>\n",
              "      <td>Random Forest</td>\n",
              "    </tr>\n",
              "  </tbody>\n",
              "</table>\n",
              "</div>"
            ],
            "text/plain": [
              "        Stock              Model\n",
              "0  ADANIPORTS      Random Forest\n",
              "1  ASIANPAINT  Gradient Boosting\n",
              "2    AXISBANK  Gradient Boosting\n",
              "3  BAJAJ-AUTO      Random Forest\n",
              "4  BAJFINANCE      Random Forest"
            ]
          },
          "metadata": {
            "tags": []
          },
          "execution_count": 9
        }
      ]
    },
    {
      "cell_type": "code",
      "metadata": {
        "id": "AK8toj_uBigO",
        "colab_type": "code",
        "colab": {
          "base_uri": "https://localhost:8080/",
          "height": 134
        },
        "outputId": "f33a5b86-428c-467b-8007-7b9e39d115aa"
      },
      "source": [
        "df['Model'].value_counts()"
      ],
      "execution_count": null,
      "outputs": [
        {
          "output_type": "execute_result",
          "data": {
            "text/plain": [
              "Gradient Boosting    25\n",
              "Random Forest        17\n",
              "LSTM                  2\n",
              "SVR-Linear            2\n",
              "SVR-Rbf               1\n",
              "SVR-Polynomial        1\n",
              "Name: Model, dtype: int64"
            ]
          },
          "metadata": {
            "tags": []
          },
          "execution_count": 7
        }
      ]
    },
    {
      "cell_type": "code",
      "metadata": {
        "id": "F717lEp3YMXn",
        "colab_type": "code",
        "colab": {
          "base_uri": "https://localhost:8080/",
          "height": 150
        },
        "outputId": "6f9f925f-9fc3-48ec-8aff-1f0f017993f7"
      },
      "source": [
        "print('Average Directional Symmetry for the models given below:\\n')\n",
        "print(\"LSTM: {:.4f}\".format(df['LSTM (Dir. Symm.)'].mean()))\n",
        "print(\"SVR-Linear: {:.4f}\".format(df['SVR_Linear (Dir. Symm.)'].mean()))\n",
        "print(\"SVR-Polynomial: {:.4f}\".format(df['SVR_Polynomial (Dir. Symm.)'].mean()))\n",
        "print(\"SVR-Rbf: {:.4f}\".format(df['SVR_Rbf (Dir. Symm.)'].mean()))\n",
        "print(\"Random Forest Regressor: {:.4f}\".format(df['Random Forest (Dir. Symm.)'].mean()))\n",
        "print(\"Gradient Boosting Regressor: {:.4f}\".format(df['Gradient Boosting (Dir. Symm.)'].mean()))"
      ],
      "execution_count": null,
      "outputs": [
        {
          "output_type": "stream",
          "text": [
            "Average Directional Symmetry for the models given below:\n",
            "\n",
            "LSTM: 49.6636\n",
            "SVR-Linear: 49.8466\n",
            "SVR-Polynomial: 49.7447\n",
            "SVR-Rbf: 50.0162\n",
            "Random Forest Regressor: 49.3051\n",
            "Gradient Boosting Regressor: 49.4939\n"
          ],
          "name": "stdout"
        }
      ]
    },
    {
      "cell_type": "code",
      "metadata": {
        "id": "mUQACrKC_65u",
        "colab_type": "code",
        "colab": {
          "base_uri": "https://localhost:8080/",
          "height": 150
        },
        "outputId": "7eaee045-9077-4350-de21-ae28aa215329"
      },
      "source": [
        "print(\"Average Normalized Mean Absolute Error for the models given below:\\n\")\n",
        "print(\"LSTM: {:.4f}\".format(df['LSTM (MAE)'].mean()))\n",
        "print(\"SVR-Linear: {:.4f}\".format(df['SVR_Linear (MAE)'].mean()))\n",
        "print(\"SVR-Polynomial: {:.4f}\".format(df['SVR_Polynomial (MAE)'].mean()))\n",
        "print(\"SVR-Rbf: {:.4f}\".format(df['SVR_Rbf (MAE)'].mean()))\n",
        "print(\"Random Forest Regressor: {:.4f}\".format(df['Random Forest (MAE)'].mean()))\n",
        "print(\"Gradient Boosting Regressor: {:.4f}\".format(df['Gradient Boosting (MAE)'].mean()))"
      ],
      "execution_count": null,
      "outputs": [
        {
          "output_type": "stream",
          "text": [
            "Average Normalized Mean Absolute Error for the models given below:\n",
            "\n",
            "LSTM: 0.5467\n",
            "SVR-Linear: 0.5303\n",
            "SVR-Polynomial: 0.7720\n",
            "SVR-Rbf: 0.8809\n",
            "Random Forest Regressor: 0.0693\n",
            "Gradient Boosting Regressor: 0.0218\n"
          ],
          "name": "stdout"
        }
      ]
    },
    {
      "cell_type": "code",
      "metadata": {
        "id": "OO3NKDfrANcU",
        "colab_type": "code",
        "colab": {
          "base_uri": "https://localhost:8080/",
          "height": 150
        },
        "outputId": "58593ce7-9289-423e-971f-317c160c5f8e"
      },
      "source": [
        "print(\"Average Noralized Mean Squared Error for the mdoels given below:\\n\")\n",
        "print(\"LSTM: {:.4f}\".format(df['LSTM (MSE)'].mean()))\n",
        "print(\"SVR-Linear: {:.4f}\".format(df['SVR_Linear (MSE)'].mean()))\n",
        "print(\"SVR-Polynomial: {:.4f}\".format(df['SVR_Polynomial (MSE)'].mean()))\n",
        "print(\"SVR-Rbf: {:.4f}\".format(df['SVR_Rbf (MSE)'].mean()))\n",
        "print(\"Random Forest Regressor: {:.4f}\".format(df['Random Forest (MSE)'].mean()))\n",
        "print(\"Gradient Boosting Regressor: {:.4f}\".format(df['Gradient Boosting (MSE)'].mean()))"
      ],
      "execution_count": null,
      "outputs": [
        {
          "output_type": "stream",
          "text": [
            "Average Noralized Mean Squared Error for the mdoels given below:\n",
            "\n",
            "LSTM: 0.5068\n",
            "SVR-Linear: 0.3950\n",
            "SVR-Polynomial: 0.7546\n",
            "SVR-Rbf: 0.8287\n",
            "Random Forest Regressor: 0.0548\n",
            "Gradient Boosting Regressor: 0.0495\n"
          ],
          "name": "stdout"
        }
      ]
    },
    {
      "cell_type": "code",
      "metadata": {
        "id": "kIyQo_7aHUvU",
        "colab_type": "code",
        "colab": {}
      },
      "source": [
        ""
      ],
      "execution_count": null,
      "outputs": []
    }
  ]
}